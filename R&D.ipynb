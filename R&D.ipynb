{
  "nbformat": 4,
  "nbformat_minor": 0,
  "metadata": {
    "colab": {
      "name": "R&D.ipynb",
      "provenance": [],
      "collapsed_sections": [
        "XGennQOEMHjT",
        "nQawZ4BsMN5K",
        "Z2QclLEEmZAR",
        "XpzbtuWEmghC",
        "cmpoDWISz-CQ",
        "_8lpiKcA5Wh3",
        "4JlW4IhWl0xs",
        "De3d9mbm51NW"
      ],
      "toc_visible": true,
      "include_colab_link": true
    },
    "kernelspec": {
      "name": "python3",
      "display_name": "Python 3"
    },
    "accelerator": "GPU"
  },
  "cells": [
    {
      "cell_type": "markdown",
      "metadata": {
        "id": "view-in-github",
        "colab_type": "text"
      },
      "source": [
        "<a href=\"https://colab.research.google.com/github/jainakki16/R-D/blob/main/R%26D.ipynb\" target=\"_parent\"><img src=\"https://colab.research.google.com/assets/colab-badge.svg\" alt=\"Open In Colab\"/></a>"
      ]
    },
    {
      "cell_type": "markdown",
      "metadata": {
        "id": "3m_XtMUMBtCO"
      },
      "source": [
        "# TODO\r\n",
        "1. Tableau\r\n",
        "2. EDA\r\n",
        "3. Report\r\n",
        "4. Plot of each func\r\n",
        "5. 1-D plot\r\n",
        "\r\n",
        "\r\n",
        "\r\n"
      ]
    },
    {
      "cell_type": "markdown",
      "metadata": {
        "id": "XGennQOEMHjT"
      },
      "source": [
        "#Analysis of the Chat transcript \r\n",
        "\r\n",
        "Data will be collected from the chat transcripts of different courses to extract the different information \r\n",
        "regarding interaction of the students, types of question, innovative ideas etc."
      ]
    },
    {
      "cell_type": "code",
      "metadata": {
        "colab": {
          "base_uri": "https://localhost:8080/"
        },
        "id": "ZJ_uhQ5Yrcjb",
        "outputId": "41b16873-25ac-4250-ba02-60f063fd16a1"
      },
      "source": [
        "from google.colab import drive\n",
        "drive.mount('/content/gdrive', force_remount=False)"
      ],
      "execution_count": null,
      "outputs": [
        {
          "output_type": "stream",
          "text": [
            "Mounted at /content/gdrive\n"
          ],
          "name": "stdout"
        }
      ]
    },
    {
      "cell_type": "markdown",
      "metadata": {
        "id": "dlswQZBZMKtq"
      },
      "source": [
        "# Importing Libraries"
      ]
    },
    {
      "cell_type": "code",
      "metadata": {
        "id": "AZtJd0-sDfZk",
        "colab": {
          "base_uri": "https://localhost:8080/"
        },
        "outputId": "915ac017-9fb5-4dbc-e0dd-b9eb98893f65"
      },
      "source": [
        "!pip install python-docx --quiet"
      ],
      "execution_count": null,
      "outputs": [
        {
          "output_type": "stream",
          "text": [
            "\u001b[K     |████████████████████████████████| 5.5MB 10.0MB/s \n",
            "\u001b[?25h  Building wheel for python-docx (setup.py) ... \u001b[?25l\u001b[?25hdone\n"
          ],
          "name": "stdout"
        }
      ]
    },
    {
      "cell_type": "code",
      "metadata": {
        "id": "qJ4pt0JUDbkN",
        "colab": {
          "base_uri": "https://localhost:8080/"
        },
        "outputId": "41757a3d-236b-4400-f841-9efe274d4362"
      },
      "source": [
        "import re\r\n",
        "import docx\r\n",
        "import operator\r\n",
        "import pandas as pd\r\n",
        "\r\n",
        "from matplotlib import pyplot as plt\r\n",
        "import seaborn as sns\r\n",
        "\r\n",
        "import nltk\r\n",
        "from nltk.corpus import stopwords\r\n",
        "\r\n",
        "sns.set_style('darkgrid')\r\n",
        "nltk.download(\"punkt\")\r\n",
        "nltk.download('stopwords')\r\n",
        "stopwords = stopwords.words('english')"
      ],
      "execution_count": null,
      "outputs": [
        {
          "output_type": "stream",
          "text": [
            "[nltk_data] Downloading package punkt to /root/nltk_data...\n",
            "[nltk_data]   Package punkt is already up-to-date!\n",
            "[nltk_data] Downloading package stopwords to /root/nltk_data...\n",
            "[nltk_data]   Package stopwords is already up-to-date!\n"
          ],
          "name": "stdout"
        }
      ]
    },
    {
      "cell_type": "markdown",
      "metadata": {
        "id": "nQawZ4BsMN5K"
      },
      "source": [
        "# Reading Data"
      ]
    },
    {
      "cell_type": "code",
      "metadata": {
        "id": "tS0WEeZYFrdG"
      },
      "source": [
        "path_1 = '/content/gdrive/MyDrive/R&D Project/6 January 2021 NLP Introduction.docx'\r\n",
        "path_2 = '/content/gdrive/MyDrive/R&D Project/11 January 2021 Words and WordNet.docx'"
      ],
      "execution_count": null,
      "outputs": []
    },
    {
      "cell_type": "code",
      "metadata": {
        "id": "k-b2PSoQQ5Oh"
      },
      "source": [
        "def read_data(path):\r\n",
        "  time = []\r\n",
        "  name = []\r\n",
        "  chat = []\r\n",
        "\r\n",
        "  document = docx.Document(path)\r\n",
        "\r\n",
        "  for para in document.paragraphs:\r\n",
        "    line = para.text.split()\r\n",
        "    if len(line) > 1:\r\n",
        "      time.append(line[0])\r\n",
        "      name.append(line[1] + ' ' + line[2][:-1])\r\n",
        "      chat.append(' '.join(line[3:]))\r\n",
        "\r\n",
        "  data = pd.DataFrame({'Time': time, 'Name': name, 'Chat': chat})\r\n",
        "\r\n",
        "  return data"
      ],
      "execution_count": null,
      "outputs": []
    },
    {
      "cell_type": "code",
      "metadata": {
        "id": "lPul85zvPbDE"
      },
      "source": [
        "data_1 = read_data(path_1)\r\n",
        "data_2 = read_data(path_2)\r\n",
        "data = [data_1, data_2]"
      ],
      "execution_count": null,
      "outputs": []
    },
    {
      "cell_type": "markdown",
      "metadata": {
        "id": "Z2QclLEEmZAR"
      },
      "source": [
        "# Number of questions asked by faculty\r\n"
      ]
    },
    {
      "cell_type": "code",
      "metadata": {
        "id": "iJsypbWpVQ5Z"
      },
      "source": [
        "def get_professor_question(data):\r\n",
        "  return data[data['Name'] == 'Ratna Sanyal']"
      ],
      "execution_count": null,
      "outputs": []
    },
    {
      "cell_type": "code",
      "metadata": {
        "id": "46BzlYHAmVoT",
        "colab": {
          "base_uri": "https://localhost:8080/"
        },
        "outputId": "77080e0c-0bc2-4e1a-9016-cbe2682f0ba2"
      },
      "source": [
        "j = 1\r\n",
        "for i in data:\r\n",
        "  print(f'Number of questions asked by faculty in session-{j} : {get_professor_question(i).shape[0]}')\r\n",
        "  j += 1"
      ],
      "execution_count": null,
      "outputs": [
        {
          "output_type": "stream",
          "text": [
            "Number of questions asked by faculty in session-1 : 0\n",
            "Number of questions asked by faculty in session-2 : 4\n"
          ],
          "name": "stdout"
        }
      ]
    },
    {
      "cell_type": "markdown",
      "metadata": {
        "id": "XpzbtuWEmghC"
      },
      "source": [
        "# Questions asked by faculty with their timestamp"
      ]
    },
    {
      "cell_type": "code",
      "metadata": {
        "id": "n-edA9W3mhYJ",
        "colab": {
          "base_uri": "https://localhost:8080/"
        },
        "outputId": "468589ac-7bad-4bd5-82ac-a16a7da82e1f"
      },
      "source": [
        "j = 0\r\n",
        "for i in data:\r\n",
        "  j += 1\r\n",
        "  if get_professor_question(i)[['Time', 'Chat']].shape[0] == 0:\r\n",
        "    continue\r\n",
        "  else:\r\n",
        "    print(f\"Time stamp of questions asked by faculty in session-{j} : \\n{get_professor_question(i)[['Time', 'Chat']]}\\n\")\r\n"
      ],
      "execution_count": null,
      "outputs": [
        {
          "output_type": "stream",
          "text": [
            "Time stamp of questions asked by faculty in session-2 : \n",
            "         Time                                 Chat\n",
            "0    00:12:59        Give the example for Homonyms\n",
            "39   00:30:10         Can you example for antonyms\n",
            "78   00:38:44  Write example for Hyponymy/Hypernym\n",
            "110  00:45:48            Write example for Meronym\n",
            "\n"
          ],
          "name": "stdout"
        }
      ]
    },
    {
      "cell_type": "markdown",
      "metadata": {
        "id": "BmjjlJwsupSM"
      },
      "source": [
        "# Most frequent words in question"
      ]
    },
    {
      "cell_type": "code",
      "metadata": {
        "id": "VAx3LiBu1Wjn"
      },
      "source": [
        "def get_top_five(dic):\r\n",
        "  sorted_dict = dict(sorted(dic.items(), key=operator.itemgetter(1), reverse=True))\r\n",
        "  top_five = {k: sorted_dict[k] for k in list(sorted_dict)[:5]}\r\n",
        "  return top_five"
      ],
      "execution_count": null,
      "outputs": []
    },
    {
      "cell_type": "code",
      "metadata": {
        "id": "c2zFbAUYeqZK",
        "colab": {
          "base_uri": "https://localhost:8080/",
          "height": 372
        },
        "outputId": "fa0e6a35-d63a-4b4f-aef1-201f4bb54388"
      },
      "source": [
        "j = 0\r\n",
        "for i in data:\r\n",
        "  j += 1\r\n",
        "\r\n",
        "  session = ' '.join(get_professor_question(i)['Chat'].tolist())\r\n",
        "  tokenizer = nltk.RegexpTokenizer(r\"\\w+\")\r\n",
        "  session = tokenizer.tokenize(session)\r\n",
        "\r\n",
        "  if session == []:\r\n",
        "    continue\r\n",
        "\r\n",
        "  word_count = {}\r\n",
        "  for word in session:\r\n",
        "    if word in word_count:\r\n",
        "      word_count[word] += 1\r\n",
        "    else:\r\n",
        "      word_count[word] = 1\r\n",
        "  \r\n",
        "  plt.figure(figsize=(10, 5))\r\n",
        "\r\n",
        "  word_count = get_top_five(word_count)\r\n",
        "  word_count_keys = list(word_count.keys())\r\n",
        "  sns.barplot(x = word_count_keys, y = [word_count[k] for k in word_count_keys], edgecolor = 'black')\r\n",
        "\r\n",
        "  plt.xticks(rotation=30, weight = 'bold')\r\n",
        "  plt.yticks(weight = 'bold')\r\n",
        "  plt.title(f'Session - {j}', weight = 'bold')\r\n",
        "  plt.ylabel('Frequency', weight = 'bold')\r\n",
        "  plt.xlabel('Tokens', weight = 'bold')"
      ],
      "execution_count": null,
      "outputs": [
        {
          "output_type": "display_data",
          "data": {
            "image/png": "[encoded data removed]",
            "text/plain": [
              "<Figure size 720x360 with 1 Axes>"
            ]
          },
          "metadata": {
            "tags": []
          }
        }
      ]
    },
    {
      "cell_type": "markdown",
      "metadata": {
        "id": "cmpoDWISz-CQ"
      },
      "source": [
        "# Total number of responses in each lecture"
      ]
    },
    {
      "cell_type": "code",
      "metadata": {
        "id": "VtukU-d6V9vh",
        "colab": {
          "base_uri": "https://localhost:8080/"
        },
        "outputId": "e14bddbf-81d0-46e8-c100-a69bf4e6fbc4"
      },
      "source": [
        "def get_ans_count(data):\r\n",
        "  return data[data['Name'] != 'Ratna Sanyal']['Name'].value_counts()\r\n",
        "\r\n",
        "j = 0\r\n",
        "total_student_response = {}\r\n",
        "for i in data:\r\n",
        "  j += 1\r\n",
        "  print(f'Total number of responses by students in session-{j} : {get_ans_count(i).sum()}')\r\n",
        "  total_student_response[f'Session-{j}'] = get_ans_count(i).sum()"
      ],
      "execution_count": null,
      "outputs": [
        {
          "output_type": "stream",
          "text": [
            "Total number of responses by students in session-1 : 26\n",
            "Total number of responses by students in session-2 : 140\n"
          ],
          "name": "stdout"
        }
      ]
    },
    {
      "cell_type": "code",
      "metadata": {
        "colab": {
          "base_uri": "https://localhost:8080/",
          "height": 350
        },
        "id": "5Nr_f9hv1Lnr",
        "outputId": "0745047e-b833-45d0-85c2-2884437f9068"
      },
      "source": [
        "plt.figure(figsize=(10, 5))\r\n",
        "\r\n",
        "total_student_response_keys = list(total_student_response.keys())\r\n",
        "sns.lineplot(x = total_student_response_keys, \r\n",
        "             y = [total_student_response[k] for k in total_student_response_keys], \r\n",
        "             marker = \"o\")\r\n",
        "\r\n",
        "plt.title('Total Responses by students', weight = 'bold')\r\n",
        "plt.ylabel('Count')\r\n",
        "plt.xlabel('Session')\r\n",
        "plt.show()  "
      ],
      "execution_count": null,
      "outputs": [
        {
          "output_type": "display_data",
          "data": {
            "image/png": "[encoded data removed]",
            "text/plain": [
              "<Figure size 720x360 with 1 Axes>"
            ]
          },
          "metadata": {
            "tags": []
          }
        }
      ]
    },
    {
      "cell_type": "markdown",
      "metadata": {
        "id": "_8lpiKcA5Wh3"
      },
      "source": [
        "# Number of responses by each student"
      ]
    },
    {
      "cell_type": "code",
      "metadata": {
        "id": "3wHZp2NF5WMh"
      },
      "source": [
        "j = 1\r\n",
        "all_num_responses = {}\r\n",
        "\r\n",
        "for i in data:\r\n",
        "  session_data = get_ans_count(i)\r\n",
        "  for index, value in session_data.items():\r\n",
        "    if j == 1:\r\n",
        "      all_num_responses[index] = [value]\r\n",
        "    else:\r\n",
        "      if index not in all_num_responses:\r\n",
        "        all_num_responses[index] = [0]\r\n",
        "        while len(all_num_responses[index]) != j - 1: \r\n",
        "          all_num_responses[index].append(0)\r\n",
        "      all_num_responses[index].append(value)\r\n",
        "\r\n",
        "  for key, value in all_num_responses.items():\r\n",
        "    if len(value) != j:\r\n",
        "      while len(all_num_responses[key]) != j: \r\n",
        "          all_num_responses[key].append(0)\r\n",
        "  j += 1"
      ],
      "execution_count": null,
      "outputs": []
    },
    {
      "cell_type": "code",
      "metadata": {
        "id": "E7b-7nLAN8vU"
      },
      "source": [
        "all_session = []\r\n",
        "\r\n",
        "for i in range(len(data)):\r\n",
        "  each_session = []\r\n",
        "  for value in all_num_responses.values():\r\n",
        "      each_session.append(value[i])\r\n",
        "  all_session.append(each_session)\r\n",
        "\r\n",
        "total_session = []\r\n",
        "\r\n",
        "for i in range(len(all_session[0])):\r\n",
        "  each_total = 0\r\n",
        "  for j in range(len(all_session)):\r\n",
        "    each_total += all_session[j][i]\r\n",
        "  total_session.append(each_total)"
      ],
      "execution_count": null,
      "outputs": []
    },
    {
      "cell_type": "code",
      "metadata": {
        "colab": {
          "base_uri": "https://localhost:8080/",
          "height": 491
        },
        "id": "Q6YiNaGUQ-Qg",
        "outputId": "3a2ee3de-f011-456a-85d3-3536902f00da"
      },
      "source": [
        "response_dic = {'student_name': list(all_num_responses.keys()), 'total_response': total_session}\r\n",
        "for i in range(len(data)):\r\n",
        "  response_dic[f'session-{i + 1}'] = all_session[i]\r\n",
        "\r\n",
        "response_data = pd.DataFrame(response_dic).sort_values('total_response', ascending = False).head(n = 15).reset_index(drop=True)\r\n",
        "response_data"
      ],
      "execution_count": null,
      "outputs": [
        {
          "output_type": "execute_result",
          "data": {
            "text/html": [
              "<div>\n",
              "<style scoped>\n",
              "    .dataframe tbody tr th:only-of-type {\n",
              "        vertical-align: middle;\n",
              "    }\n",
              "\n",
              "    .dataframe tbody tr th {\n",
              "        vertical-align: top;\n",
              "    }\n",
              "\n",
              "    .dataframe thead th {\n",
              "        text-align: right;\n",
              "    }\n",
              "</style>\n",
              "<table border=\"1\" class=\"dataframe\">\n",
              "  <thead>\n",
              "    <tr style=\"text-align: right;\">\n",
              "      <th></th>\n",
              "      <th>student_name</th>\n",
              "      <th>total_response</th>\n",
              "      <th>session-1</th>\n",
              "      <th>session-2</th>\n",
              "    </tr>\n",
              "  </thead>\n",
              "  <tbody>\n",
              "    <tr>\n",
              "      <th>0</th>\n",
              "      <td>Abhinav Gupta</td>\n",
              "      <td>16</td>\n",
              "      <td>5</td>\n",
              "      <td>11</td>\n",
              "    </tr>\n",
              "    <tr>\n",
              "      <th>1</th>\n",
              "      <td>Darsh Manish</td>\n",
              "      <td>11</td>\n",
              "      <td>0</td>\n",
              "      <td>11</td>\n",
              "    </tr>\n",
              "    <tr>\n",
              "      <th>2</th>\n",
              "      <td>Shefali .</td>\n",
              "      <td>11</td>\n",
              "      <td>5</td>\n",
              "      <td>6</td>\n",
              "    </tr>\n",
              "    <tr>\n",
              "      <th>3</th>\n",
              "      <td>Shresth Rana</td>\n",
              "      <td>11</td>\n",
              "      <td>0</td>\n",
              "      <td>11</td>\n",
              "    </tr>\n",
              "    <tr>\n",
              "      <th>4</th>\n",
              "      <td>Akshay Sharma</td>\n",
              "      <td>9</td>\n",
              "      <td>2</td>\n",
              "      <td>7</td>\n",
              "    </tr>\n",
              "    <tr>\n",
              "      <th>5</th>\n",
              "      <td>Ali Khan</td>\n",
              "      <td>8</td>\n",
              "      <td>1</td>\n",
              "      <td>7</td>\n",
              "    </tr>\n",
              "    <tr>\n",
              "      <th>6</th>\n",
              "      <td>Mayank Gubba</td>\n",
              "      <td>8</td>\n",
              "      <td>0</td>\n",
              "      <td>8</td>\n",
              "    </tr>\n",
              "    <tr>\n",
              "      <th>7</th>\n",
              "      <td>Swattik Chakrabarty</td>\n",
              "      <td>8</td>\n",
              "      <td>0</td>\n",
              "      <td>8</td>\n",
              "    </tr>\n",
              "    <tr>\n",
              "      <th>8</th>\n",
              "      <td>Samarth Gangwal</td>\n",
              "      <td>6</td>\n",
              "      <td>0</td>\n",
              "      <td>6</td>\n",
              "    </tr>\n",
              "    <tr>\n",
              "      <th>9</th>\n",
              "      <td>Tammana Karthik</td>\n",
              "      <td>6</td>\n",
              "      <td>0</td>\n",
              "      <td>6</td>\n",
              "    </tr>\n",
              "    <tr>\n",
              "      <th>10</th>\n",
              "      <td>Mayuri Mahesh</td>\n",
              "      <td>6</td>\n",
              "      <td>0</td>\n",
              "      <td>6</td>\n",
              "    </tr>\n",
              "    <tr>\n",
              "      <th>11</th>\n",
              "      <td>Shikhar Dixit</td>\n",
              "      <td>6</td>\n",
              "      <td>1</td>\n",
              "      <td>5</td>\n",
              "    </tr>\n",
              "    <tr>\n",
              "      <th>12</th>\n",
              "      <td>Aaditya Gupta</td>\n",
              "      <td>6</td>\n",
              "      <td>2</td>\n",
              "      <td>4</td>\n",
              "    </tr>\n",
              "    <tr>\n",
              "      <th>13</th>\n",
              "      <td>Arjun Seth</td>\n",
              "      <td>6</td>\n",
              "      <td>2</td>\n",
              "      <td>4</td>\n",
              "    </tr>\n",
              "    <tr>\n",
              "      <th>14</th>\n",
              "      <td>Mousumi Saha</td>\n",
              "      <td>5</td>\n",
              "      <td>0</td>\n",
              "      <td>5</td>\n",
              "    </tr>\n",
              "  </tbody>\n",
              "</table>\n",
              "</div>"
            ],
            "text/plain": [
              "           student_name  total_response  session-1  session-2\n",
              "0         Abhinav Gupta              16          5         11\n",
              "1          Darsh Manish              11          0         11\n",
              "2             Shefali .              11          5          6\n",
              "3          Shresth Rana              11          0         11\n",
              "4         Akshay Sharma               9          2          7\n",
              "5              Ali Khan               8          1          7\n",
              "6          Mayank Gubba               8          0          8\n",
              "7   Swattik Chakrabarty               8          0          8\n",
              "8       Samarth Gangwal               6          0          6\n",
              "9       Tammana Karthik               6          0          6\n",
              "10        Mayuri Mahesh               6          0          6\n",
              "11        Shikhar Dixit               6          1          5\n",
              "12        Aaditya Gupta               6          2          4\n",
              "13           Arjun Seth               6          2          4\n",
              "14         Mousumi Saha               5          0          5"
            ]
          },
          "metadata": {
            "tags": []
          },
          "execution_count": 16
        }
      ]
    },
    {
      "cell_type": "code",
      "metadata": {
        "colab": {
          "base_uri": "https://localhost:8080/",
          "height": 567
        },
        "id": "WeE-AX6yX5Cg",
        "outputId": "1ad09351-3d6a-4472-ed66-af01311cf438"
      },
      "source": [
        "plt.figure(figsize=(6, 9))\r\n",
        "sns.set_color_codes(\"pastel\")\r\n",
        "sns.barplot(x=\"session-2\", y=\"student_name\", data=response_data, label=\"S - 1\", color=\"g\")\r\n",
        "sns.set_color_codes(\"muted\")\r\n",
        "sns.barplot(x=\"session-1\", y=\"student_name\", data=response_data, label=\"S - 2\", color=\"b\")\r\n",
        "plt.xlabel('Responses')\r\n",
        "plt.ylabel('Student Name')\r\n",
        "plt.title('Number of responses by each student')\r\n",
        "plt.legend(ncol = 2)\r\n",
        "plt.show()"
      ],
      "execution_count": null,
      "outputs": [
        {
          "output_type": "display_data",
          "data": {
            "image/png": "[encoded data removed]",
            "text/plain": [
              "<Figure size 432x648 with 1 Axes>"
            ]
          },
          "metadata": {
            "tags": []
          }
        }
      ]
    },
    {
      "cell_type": "markdown",
      "metadata": {
        "id": "4JlW4IhWl0xs"
      },
      "source": [
        "# Responses After Each Question"
      ]
    },
    {
      "cell_type": "code",
      "metadata": {
        "id": "nMpzCpNFYcaC"
      },
      "source": [
        "def response_after_question(data):\r\n",
        "  data_copy = data.copy(deep = True)\r\n",
        "  data_copy.loc[len(data_copy.index)] = [' ', 'Ratna Sanyal', ' ']\r\n",
        "  ques_index = data_copy.index[data_copy['Name'] == 'Ratna Sanyal'].tolist()\r\n",
        "  \r\n",
        "  all_responses = []\r\n",
        "  for i in range(len(ques_index) - 1):\r\n",
        "    all_responses.append(get_ans_count(data_copy[ques_index[i] + 1 : ques_index[i + 1]]).sum())\r\n",
        "  return all_responses"
      ],
      "execution_count": null,
      "outputs": []
    },
    {
      "cell_type": "code",
      "metadata": {
        "id": "zHxv1R6TF3BV"
      },
      "source": [
        "j = 0\r\n",
        "all_responses = []\r\n",
        "for i in data:\r\n",
        "  j += 1\r\n",
        "\r\n",
        "  all_responses.append(response_after_question(i))\r\n",
        "\r\n",
        "max_length = len(max(all_responses, key=len))\r\n",
        "for i in range(len(data)):\r\n",
        "  if len(all_responses[i]) != max_length:\r\n",
        "    diff = max_length - len(all_responses[i])\r\n",
        "    all_responses[i].extend([0]*diff)\r\n"
      ],
      "execution_count": null,
      "outputs": []
    },
    {
      "cell_type": "code",
      "metadata": {
        "colab": {
          "base_uri": "https://localhost:8080/",
          "height": 350
        },
        "id": "fL1knaCjIaZz",
        "outputId": "c4fb8b49-d800-47ad-c129-f5d367c4f4ea"
      },
      "source": [
        "plt.figure(figsize=(12, 5))\r\n",
        "for i in range(len(all_responses)):\r\n",
        "  sns.lineplot(x = range(1, max_length + 1), y = all_responses[i], marker = 'o', label = f'Session {i + 1}')\r\n",
        "\r\n",
        "plt.xlabel('Question Number')\r\n",
        "plt.ylabel('No. of Responses')\r\n",
        "plt.title('Responses After Each Question')\r\n",
        "plt.show()"
      ],
      "execution_count": null,
      "outputs": [
        {
          "output_type": "display_data",
          "data": {
            "image/png": "[encoded data removed]",
            "text/plain": [
              "<Figure size 864x360 with 1 Axes>"
            ]
          },
          "metadata": {
            "tags": []
          }
        }
      ]
    },
    {
      "cell_type": "markdown",
      "metadata": {
        "id": "De3d9mbm51NW"
      },
      "source": [
        "#Most Frequent Words in Responses"
      ]
    },
    {
      "cell_type": "code",
      "metadata": {
        "id": "hwlYeQF350J3"
      },
      "source": [
        "def get_student_responses(data):\r\n",
        "  return data[data['Name'] != 'Ratna Sanyal']"
      ],
      "execution_count": null,
      "outputs": []
    },
    {
      "cell_type": "code",
      "metadata": {
        "colab": {
          "base_uri": "https://localhost:8080/",
          "height": 802
        },
        "id": "bxG3EoJDatAE",
        "outputId": "8e9d25d1-16a3-4c8f-d838-d6dc899911d4"
      },
      "source": [
        "j = 0\r\n",
        "for i in data:\r\n",
        "  j += 1\r\n",
        "\r\n",
        "  responses = ' '.join(get_student_responses(i)['Chat'].tolist())\r\n",
        "  tokenizer = nltk.RegexpTokenizer(r\"\\w+\")\r\n",
        "  responses = tokenizer.tokenize(responses)\r\n",
        "\r\n",
        "  if responses == []:\r\n",
        "    continue\r\n",
        "\r\n",
        "  word_count_1 = {}\r\n",
        "  for word in responses:\r\n",
        "    if word in word_count_1:\r\n",
        "      word_count_1[word] += 1\r\n",
        "    else:\r\n",
        "      word_count_1[word] = 1\r\n",
        "\r\n",
        "  # ---- dictionary without stopword -----\r\n",
        "  dict_without_stop = word_count_1.copy()\r\n",
        "  for i in stopwords:\r\n",
        "    if i in word_count_1:\r\n",
        "      dict_without_stop.pop(i)\r\n",
        "\r\n",
        "  word_count_1 = get_top_five(word_count_1)\r\n",
        "  word_count_keys_1 = list(word_count_1.keys())\r\n",
        "\r\n",
        "  dict_without_stop = get_top_five(dict_without_stop)\r\n",
        "  dict_without_stop_keys = list(dict_without_stop.keys())\r\n",
        "\r\n",
        "  print(f'\\nSession - {j}\\n')\r\n",
        "  f, axes = plt.subplots(nrows = 1, ncols = 2, figsize=(12,5), edgecolor='k')\r\n",
        "  f.subplots_adjust(hspace=0.5, wspace=0.3, bottom = 0.1)\r\n",
        "  sns.barplot(x = word_count_keys_1, y = [word_count_1[k] for k in word_count_keys_1], edgecolor = 'black', ax=axes[0])\r\n",
        "  sns.barplot(x = dict_without_stop_keys, y = [dict_without_stop[k] for k in dict_without_stop_keys], edgecolor = 'black', ax=axes[1])\r\n",
        "\r\n",
        "  axes[0].set_title('With Stopwords')\r\n",
        "  axes[0].set_xlabel('Token')\r\n",
        "  axes[0].set_ylabel('Frequency')\r\n",
        "  axes[1].set_title('Without Stopwords')\r\n",
        "  axes[1].set_xlabel('Token')\r\n",
        "  axes[1].set_ylabel('Frequency')\r\n",
        "  plt.show()"
      ],
      "execution_count": null,
      "outputs": [
        {
          "output_type": "stream",
          "text": [
            "\n",
            "Session - 1\n",
            "\n"
          ],
          "name": "stdout"
        },
        {
          "output_type": "display_data",
          "data": {
            "image/png": "[encoded data removed]",
            "text/plain": [
              "<Figure size 864x360 with 2 Axes>"
            ]
          },
          "metadata": {
            "tags": []
          }
        },
        {
          "output_type": "stream",
          "text": [
            "\n",
            "Session - 2\n",
            "\n"
          ],
          "name": "stdout"
        },
        {
          "output_type": "display_data",
          "data": {
            "image/png": "[encoded data removed]",
            "text/plain": [
              "<Figure size 864x360 with 2 Axes>"
            ]
          },
          "metadata": {
            "tags": []
          }
        }
      ]
    },
    {
      "cell_type": "markdown",
      "metadata": {
        "id": "VMlxy4CPEf1k"
      },
      "source": [
        "# Abbreviations"
      ]
    },
    {
      "cell_type": "code",
      "metadata": {
        "id": "NLYMqUdcIOjc"
      },
      "source": [
        "def clean(chat_string): \r\n",
        "    # Special characters\r\n",
        "    chat_string = re.sub(r\"\\x89Û_\", \"\", chat_string)\r\n",
        "    chat_string = re.sub(r\"\\x89ÛÒ\", \"\", chat_string)\r\n",
        "    chat_string = re.sub(r\"\\x89ÛÓ\", \"\", chat_string)\r\n",
        "    chat_string = re.sub(r\"\\x89ÛÏWhen\", \"When\", chat_string)\r\n",
        "    chat_string = re.sub(r\"\\x89ÛÏ\", \"\", chat_string)\r\n",
        "    chat_string = re.sub(r\"China\\x89Ûªs\", \"China's\", chat_string)\r\n",
        "    chat_string = re.sub(r\"let\\x89Ûªs\", \"let's\", chat_string)\r\n",
        "    chat_string = re.sub(r\"\\x89Û÷\", \"\", chat_string)\r\n",
        "    chat_string = re.sub(r\"\\x89Ûª\", \"\", chat_string)\r\n",
        "    chat_string = re.sub(r\"\\x89Û\\x9d\", \"\", chat_string)\r\n",
        "    chat_string = re.sub(r\"å_\", \"\", chat_string)\r\n",
        "    chat_string = re.sub(r\"\\x89Û¢\", \"\", chat_string)\r\n",
        "    chat_string = re.sub(r\"\\x89Û¢åÊ\", \"\", chat_string)\r\n",
        "    chat_string = re.sub(r\"fromåÊwounds\", \"from wounds\", chat_string)\r\n",
        "    chat_string = re.sub(r\"åÊ\", \"\", chat_string)\r\n",
        "    chat_string = re.sub(r\"åÈ\", \"\", chat_string)\r\n",
        "    chat_string = re.sub(r\"JapÌ_n\", \"Japan\", chat_string)    \r\n",
        "    chat_string = re.sub(r\"Ì©\", \"e\", chat_string)\r\n",
        "    chat_string = re.sub(r\"å¨\", \"\", chat_string)\r\n",
        "    chat_string = re.sub(r\"SuruÌ¤\", \"Suruc\", chat_string)\r\n",
        "    chat_string = re.sub(r\"åÇ\", \"\", chat_string)\r\n",
        "    chat_string = re.sub(r\"å£3million\", \"3 million\", chat_string)\r\n",
        "    chat_string = re.sub(r\"åÀ\", \"\", chat_string)\r\n",
        "    \r\n",
        "    # Contractions\r\n",
        "    chat_string = re.sub(r\"he's\", \"he is\", chat_string)\r\n",
        "    chat_string = re.sub(r\"there's\", \"there is\", chat_string)\r\n",
        "    chat_string = re.sub(r\"We're\", \"We are\", chat_string)\r\n",
        "    chat_string = re.sub(r\"That's\", \"That is\", chat_string)\r\n",
        "    chat_string = re.sub(r\"won't\", \"will not\", chat_string)\r\n",
        "    chat_string = re.sub(r\"they're\", \"they are\", chat_string)\r\n",
        "    chat_string = re.sub(r\"Can't\", \"Cannot\", chat_string)\r\n",
        "    chat_string = re.sub(r\"wasn't\", \"was not\", chat_string)\r\n",
        "    chat_string = re.sub(r\"don\\x89Ûªt\", \"do not\", chat_string)\r\n",
        "    chat_string = re.sub(r\"aren't\", \"are not\", chat_string)\r\n",
        "    chat_string = re.sub(r\"isn't\", \"is not\", chat_string)\r\n",
        "    chat_string = re.sub(r\"What's\", \"What is\", chat_string)\r\n",
        "    chat_string = re.sub(r\"haven't\", \"have not\", chat_string)\r\n",
        "    chat_string = re.sub(r\"hasn't\", \"has not\", chat_string)\r\n",
        "    chat_string = re.sub(r\"There's\", \"There is\", chat_string)\r\n",
        "    chat_string = re.sub(r\"He's\", \"He is\", chat_string)\r\n",
        "    chat_string = re.sub(r\"It's\", \"It is\", chat_string)\r\n",
        "    chat_string = re.sub(r\"You're\", \"You are\", chat_string)\r\n",
        "    chat_string = re.sub(r\"I'M\", \"I am\", chat_string)\r\n",
        "    chat_string = re.sub(r\"shouldn't\", \"should not\", chat_string)\r\n",
        "    chat_string = re.sub(r\"wouldn't\", \"would not\", chat_string)\r\n",
        "    chat_string = re.sub(r\"i'm\", \"I am\", chat_string)\r\n",
        "    chat_string = re.sub(r\"I\\x89Ûªm\", \"I am\", chat_string)\r\n",
        "    chat_string = re.sub(r\"I'm\", \"I am\", chat_string)\r\n",
        "    chat_string = re.sub(r\"Isn't\", \"is not\", chat_string)\r\n",
        "    chat_string = re.sub(r\"Here's\", \"Here is\", chat_string)\r\n",
        "    chat_string = re.sub(r\"you've\", \"you have\", chat_string)\r\n",
        "    chat_string = re.sub(r\"you\\x89Ûªve\", \"you have\", chat_string)\r\n",
        "    chat_string = re.sub(r\"we're\", \"we are\", chat_string)\r\n",
        "    chat_string = re.sub(r\"what's\", \"what is\", chat_string)\r\n",
        "    chat_string = re.sub(r\"couldn't\", \"could not\", chat_string)\r\n",
        "    chat_string = re.sub(r\"we've\", \"we have\", chat_string)\r\n",
        "    chat_string = re.sub(r\"it\\x89Ûªs\", \"it is\", chat_string)\r\n",
        "    chat_string = re.sub(r\"doesn\\x89Ûªt\", \"does not\", chat_string)\r\n",
        "    chat_string = re.sub(r\"It\\x89Ûªs\", \"It is\", chat_string)\r\n",
        "    chat_string = re.sub(r\"Here\\x89Ûªs\", \"Here is\", chat_string)\r\n",
        "    chat_string = re.sub(r\"who's\", \"who is\", chat_string)\r\n",
        "    chat_string = re.sub(r\"I\\x89Ûªve\", \"I have\", chat_string)\r\n",
        "    chat_string = re.sub(r\"y'all\", \"you all\", chat_string)\r\n",
        "    chat_string = re.sub(r\"can\\x89Ûªt\", \"cannot\", chat_string)\r\n",
        "    chat_string = re.sub(r\"would've\", \"would have\", chat_string)\r\n",
        "    chat_string = re.sub(r\"it'll\", \"it will\", chat_string)\r\n",
        "    chat_string = re.sub(r\"we'll\", \"we will\", chat_string)\r\n",
        "    chat_string = re.sub(r\"wouldn\\x89Ûªt\", \"would not\", chat_string)\r\n",
        "    chat_string = re.sub(r\"We've\", \"We have\", chat_string)\r\n",
        "    chat_string = re.sub(r\"he'll\", \"he will\", chat_string)\r\n",
        "    chat_string = re.sub(r\"Y'all\", \"You all\", chat_string)\r\n",
        "    chat_string = re.sub(r\"Weren't\", \"Were not\", chat_string)\r\n",
        "    chat_string = re.sub(r\"Didn't\", \"Did not\", chat_string)\r\n",
        "    chat_string = re.sub(r\"they'll\", \"they will\", chat_string)\r\n",
        "    chat_string = re.sub(r\"they'd\", \"they would\", chat_string)\r\n",
        "    chat_string = re.sub(r\"DON'T\", \"DO NOT\", chat_string)\r\n",
        "    chat_string = re.sub(r\"That\\x89Ûªs\", \"That is\", chat_string)\r\n",
        "    chat_string = re.sub(r\"they've\", \"they have\", chat_string)\r\n",
        "    chat_string = re.sub(r\"i'd\", \"I would\", chat_string)\r\n",
        "    chat_string = re.sub(r\"should've\", \"should have\", chat_string)\r\n",
        "    chat_string = re.sub(r\"You\\x89Ûªre\", \"You are\", chat_string)\r\n",
        "    chat_string = re.sub(r\"where's\", \"where is\", chat_string)\r\n",
        "    chat_string = re.sub(r\"Don\\x89Ûªt\", \"Do not\", chat_string)\r\n",
        "    chat_string = re.sub(r\"we'd\", \"we would\", chat_string)\r\n",
        "    chat_string = re.sub(r\"i'll\", \"I will\", chat_string)\r\n",
        "    chat_string = re.sub(r\"weren't\", \"were not\", chat_string)\r\n",
        "    chat_string = re.sub(r\"They're\", \"They are\", chat_string)\r\n",
        "    chat_string = re.sub(r\"Can\\x89Ûªt\", \"Cannot\", chat_string)\r\n",
        "    chat_string = re.sub(r\"you\\x89Ûªll\", \"you will\", chat_string)\r\n",
        "    chat_string = re.sub(r\"I\\x89Ûªd\", \"I would\", chat_string)\r\n",
        "    chat_string = re.sub(r\"let's\", \"let us\", chat_string)\r\n",
        "    chat_string = re.sub(r\"it's\", \"it is\", chat_string)\r\n",
        "    chat_string = re.sub(r\"can't\", \"cannot\", chat_string)\r\n",
        "    chat_string = re.sub(r\"don't\", \"do not\", chat_string)\r\n",
        "    chat_string = re.sub(r\"you're\", \"you are\", chat_string)\r\n",
        "    chat_string = re.sub(r\"i've\", \"I have\", chat_string)\r\n",
        "    chat_string = re.sub(r\"that's\", \"that is\", chat_string)\r\n",
        "    chat_string = re.sub(r\"i'll\", \"I will\", chat_string)\r\n",
        "    chat_string = re.sub(r\"doesn't\", \"does not\", chat_string)\r\n",
        "    chat_string = re.sub(r\"i'd\", \"I would\", chat_string)\r\n",
        "    chat_string = re.sub(r\"didn't\", \"did not\", chat_string)\r\n",
        "    chat_string = re.sub(r\"ain't\", \"am not\", chat_string)\r\n",
        "    chat_string = re.sub(r\"you'll\", \"you will\", chat_string)\r\n",
        "    chat_string = re.sub(r\"I've\", \"I have\", chat_string)\r\n",
        "    chat_string = re.sub(r\"Don't\", \"do not\", chat_string)\r\n",
        "    chat_string = re.sub(r\"I'll\", \"I will\", chat_string)\r\n",
        "    chat_string = re.sub(r\"I'd\", \"I would\", chat_string)\r\n",
        "    chat_string = re.sub(r\"Let's\", \"Let us\", chat_string)\r\n",
        "    chat_string = re.sub(r\"you'd\", \"You would\", chat_string)\r\n",
        "    chat_string = re.sub(r\"It's\", \"It is\", chat_string)\r\n",
        "    chat_string = re.sub(r\"Ain't\", \"am not\", chat_string)\r\n",
        "    chat_string = re.sub(r\"Haven't\", \"Have not\", chat_string)\r\n",
        "    chat_string = re.sub(r\"Could've\", \"Could have\", chat_string)\r\n",
        "    chat_string = re.sub(r\"youve\", \"you have\", chat_string)  \r\n",
        "    chat_string = re.sub(r\"donå«t\", \"do not\", chat_string)   \r\n",
        "            \r\n",
        "    # Character entity references\r\n",
        "    chat_string = re.sub(r\"&gt;\", \">\", chat_string)\r\n",
        "    chat_string = re.sub(r\"&lt;\", \"<\", chat_string)\r\n",
        "    chat_string = re.sub(r\"&amp;\", \"&\", chat_string)\r\n",
        "    \r\n",
        "    # Typos, slang and informal abbreviations\r\n",
        "    chat_string = re.sub(r\"w/e\", \"whatever\", chat_string)\r\n",
        "    chat_string = re.sub(r\"w/\", \"with\", chat_string)\r\n",
        "    chat_string = re.sub(r\"USAgov\", \"USA government\", chat_string)\r\n",
        "    chat_string = re.sub(r\"recentlu\", \"recently\", chat_string)\r\n",
        "    chat_string = re.sub(r\"Ph0tos\", \"Photos\", chat_string)\r\n",
        "    chat_string = re.sub(r\"amirite\", \"am I right\", chat_string)\r\n",
        "    chat_string = re.sub(r\"exp0sed\", \"exposed\", chat_string)\r\n",
        "    chat_string = re.sub(r\"<3\", \"love\", chat_string)\r\n",
        "    chat_string = re.sub(r\"amageddon\", \"armageddon\", chat_string)\r\n",
        "    chat_string = re.sub(r\"Trfc\", \"Traffic\", chat_string)\r\n",
        "    chat_string = re.sub(r\"8/5/2015\", \"2015-08-05\", chat_string)\r\n",
        "    chat_string = re.sub(r\"WindStorm\", \"Wind Storm\", chat_string)\r\n",
        "    chat_string = re.sub(r\"8/6/2015\", \"2015-08-06\", chat_string)\r\n",
        "    chat_string = re.sub(r\"10:38PM\", \"10:38 PM\", chat_string)\r\n",
        "    chat_string = re.sub(r\"10:30pm\", \"10:30 PM\", chat_string)\r\n",
        "    chat_string = re.sub(r\"16yr\", \"16 year\", chat_string)\r\n",
        "    chat_string = re.sub(r\"lmao\", \"laughing my ass off\", chat_string)   \r\n",
        "    chat_string = re.sub(r\"TRAUMATISED\", \"traumatized\", chat_string)\r\n",
        "    \r\n",
        "    # Hashtags and usernames\r\n",
        "    chat_string = re.sub(r\"IranDeal\", \"Iran Deal\", chat_string)\r\n",
        "    chat_string = re.sub(r\"ArianaGrande\", \"Ariana Grande\", chat_string)\r\n",
        "    chat_string = re.sub(r\"camilacabello97\", \"camila cabello\", chat_string) \r\n",
        "    chat_string = re.sub(r\"RondaRousey\", \"Ronda Rousey\", chat_string)     \r\n",
        "    chat_string = re.sub(r\"MTVHottest\", \"MTV Hottest\", chat_string)\r\n",
        "    chat_string = re.sub(r\"TrapMusic\", \"Trap Music\", chat_string)\r\n",
        "    chat_string = re.sub(r\"ProphetMuhammad\", \"Prophet Muhammad\", chat_string)\r\n",
        "    chat_string = re.sub(r\"PantherAttack\", \"Panther Attack\", chat_string)\r\n",
        "    chat_string = re.sub(r\"StrategicPatience\", \"Strategic Patience\", chat_string)\r\n",
        "    chat_string = re.sub(r\"socialnews\", \"social news\", chat_string)\r\n",
        "    chat_string = re.sub(r\"NASAHurricane\", \"NASA Hurricane\", chat_string)\r\n",
        "    chat_string = re.sub(r\"onlinecommunities\", \"online communities\", chat_string)\r\n",
        "    chat_string = re.sub(r\"humanconsumption\", \"human consumption\", chat_string)\r\n",
        "    chat_string = re.sub(r\"Typhoon-Devastated\", \"Typhoon Devastated\", chat_string)\r\n",
        "    chat_string = re.sub(r\"Meat-Loving\", \"Meat Loving\", chat_string)\r\n",
        "    chat_string = re.sub(r\"facialabuse\", \"facial abuse\", chat_string)\r\n",
        "    chat_string = re.sub(r\"LakeCounty\", \"Lake County\", chat_string)\r\n",
        "    chat_string = re.sub(r\"BeingAuthor\", \"Being Author\", chat_string)\r\n",
        "    chat_string = re.sub(r\"withheavenly\", \"with heavenly\", chat_string)\r\n",
        "    chat_string = re.sub(r\"thankU\", \"thank you\", chat_string)\r\n",
        "    chat_string = re.sub(r\"iTunesMusic\", \"iTunes Music\", chat_string)\r\n",
        "    chat_string = re.sub(r\"OffensiveContent\", \"Offensive Content\", chat_string)\r\n",
        "    chat_string = re.sub(r\"WorstSummerJob\", \"Worst Summer Job\", chat_string)\r\n",
        "    chat_string = re.sub(r\"HarryBeCareful\", \"Harry Be Careful\", chat_string)\r\n",
        "    chat_string = re.sub(r\"NASASolarSystem\", \"NASA Solar System\", chat_string)\r\n",
        "    chat_string = re.sub(r\"animalrescue\", \"animal rescue\", chat_string)\r\n",
        "    chat_string = re.sub(r\"KurtSchlichter\", \"Kurt Schlichter\", chat_string)\r\n",
        "    chat_string = re.sub(r\"aRmageddon\", \"armageddon\", chat_string)\r\n",
        "    chat_string = re.sub(r\"Throwingknifes\", \"Throwing knives\", chat_string)\r\n",
        "    chat_string = re.sub(r\"GodsLove\", \"God's Love\", chat_string)\r\n",
        "    chat_string = re.sub(r\"bookboost\", \"book boost\", chat_string)\r\n",
        "    chat_string = re.sub(r\"ibooklove\", \"I book love\", chat_string)\r\n",
        "    chat_string = re.sub(r\"NestleIndia\", \"Nestle India\", chat_string)\r\n",
        "    chat_string = re.sub(r\"realDonaldTrump\", \"Donald Trump\", chat_string)\r\n",
        "    chat_string = re.sub(r\"DavidVonderhaar\", \"David Vonderhaar\", chat_string)\r\n",
        "    chat_string = re.sub(r\"CecilTheLion\", \"Cecil The Lion\", chat_string)\r\n",
        "    chat_string = re.sub(r\"weathernetwork\", \"weather network\", chat_string)\r\n",
        "    chat_string = re.sub(r\"withBioterrorism&use\", \"with Bioterrorism & use\", chat_string)\r\n",
        "    chat_string = re.sub(r\"Hostage&2\", \"Hostage & 2\", chat_string)\r\n",
        "    chat_string = re.sub(r\"GOPDebate\", \"GOP Debate\", chat_string)\r\n",
        "    chat_string = re.sub(r\"RickPerry\", \"Rick Perry\", chat_string)\r\n",
        "    chat_string = re.sub(r\"frontpage\", \"front page\", chat_string)\r\n",
        "    chat_string = re.sub(r\"NewsInTweets\", \"News In Tweets\", chat_string)\r\n",
        "    chat_string = re.sub(r\"ViralSpell\", \"Viral Spell\", chat_string)\r\n",
        "    chat_string = re.sub(r\"til_now\", \"until now\", chat_string)\r\n",
        "    chat_string = re.sub(r\"volcanoinRussia\", \"volcano in Russia\", chat_string)\r\n",
        "    chat_string = re.sub(r\"ZippedNews\", \"Zipped News\", chat_string)\r\n",
        "    chat_string = re.sub(r\"MicheleBachman\", \"Michele Bachman\", chat_string)\r\n",
        "    chat_string = re.sub(r\"53inch\", \"53 inch\", chat_string)\r\n",
        "    chat_string = re.sub(r\"KerrickTrial\", \"Kerrick Trial\", chat_string)\r\n",
        "    chat_string = re.sub(r\"abstorm\", \"Alberta Storm\", chat_string)\r\n",
        "    chat_string = re.sub(r\"Beyhive\", \"Beyonce hive\", chat_string)\r\n",
        "    chat_string = re.sub(r\"IDFire\", \"Idaho Fire\", chat_string)\r\n",
        "    chat_string = re.sub(r\"DETECTADO\", \"Detected\", chat_string)\r\n",
        "    chat_string = re.sub(r\"RockyFire\", \"Rocky Fire\", chat_string)\r\n",
        "    chat_string = re.sub(r\"Listen/Buy\", \"Listen / Buy\", chat_string)\r\n",
        "    chat_string = re.sub(r\"NickCannon\", \"Nick Cannon\", chat_string)\r\n",
        "    chat_string = re.sub(r\"FaroeIslands\", \"Faroe Islands\", chat_string)\r\n",
        "    chat_string = re.sub(r\"yycstorm\", \"Calgary Storm\", chat_string)\r\n",
        "    chat_string = re.sub(r\"IDPs:\", \"Internally Displaced People :\", chat_string)\r\n",
        "    chat_string = re.sub(r\"ArtistsUnited\", \"Artists United\", chat_string)\r\n",
        "    chat_string = re.sub(r\"ClaytonBryant\", \"Clayton Bryant\", chat_string)\r\n",
        "    chat_string = re.sub(r\"jimmyfallon\", \"jimmy fallon\", chat_string)\r\n",
        "    chat_string = re.sub(r\"justinbieber\", \"justin bieber\", chat_string)  \r\n",
        "    chat_string = re.sub(r\"UTC2015\", \"UTC 2015\", chat_string)\r\n",
        "    chat_string = re.sub(r\"Time2015\", \"Time 2015\", chat_string)\r\n",
        "    chat_string = re.sub(r\"djicemoon\", \"dj icemoon\", chat_string)\r\n",
        "    chat_string = re.sub(r\"LivingSafely\", \"Living Safely\", chat_string)\r\n",
        "    chat_string = re.sub(r\"FIFA16\", \"Fifa 2016\", chat_string)\r\n",
        "    chat_string = re.sub(r\"thisiswhywecanthavenicethings\", \"this is why we cannot have nice things\", chat_string)\r\n",
        "    chat_string = re.sub(r\"bbcnews\", \"bbc news\", chat_string)\r\n",
        "    chat_string = re.sub(r\"UndergroundRailraod\", \"Underground Railraod\", chat_string)\r\n",
        "    chat_string = re.sub(r\"c4news\", \"c4 news\", chat_string)\r\n",
        "    chat_string = re.sub(r\"OBLITERATION\", \"obliteration\", chat_string)\r\n",
        "    chat_string = re.sub(r\"MUDSLIDE\", \"mudslide\", chat_string)\r\n",
        "    chat_string = re.sub(r\"NoSurrender\", \"No Surrender\", chat_string)\r\n",
        "    chat_string = re.sub(r\"NotExplained\", \"Not Explained\", chat_string)\r\n",
        "    chat_string = re.sub(r\"greatbritishbakeoff\", \"great british bake off\", chat_string)\r\n",
        "    chat_string = re.sub(r\"LondonFire\", \"London Fire\", chat_string)\r\n",
        "    chat_string = re.sub(r\"KOTAWeather\", \"KOTA Weather\", chat_string)\r\n",
        "    chat_string = re.sub(r\"LuchaUnderground\", \"Lucha Underground\", chat_string)\r\n",
        "    chat_string = re.sub(r\"KOIN6News\", \"KOIN 6 News\", chat_string)\r\n",
        "    chat_string = re.sub(r\"LiveOnK2\", \"Live On K2\", chat_string)\r\n",
        "    chat_string = re.sub(r\"9NewsGoldCoast\", \"9 News Gold Coast\", chat_string)\r\n",
        "    chat_string = re.sub(r\"nikeplus\", \"nike plus\", chat_string)\r\n",
        "    chat_string = re.sub(r\"david_cameron\", \"David Cameron\", chat_string)\r\n",
        "    chat_string = re.sub(r\"peterjukes\", \"Peter Jukes\", chat_string)\r\n",
        "    chat_string = re.sub(r\"JamesMelville\", \"James Melville\", chat_string)\r\n",
        "    chat_string = re.sub(r\"megynkelly\", \"Megyn Kelly\", chat_string)\r\n",
        "    chat_string = re.sub(r\"cnewslive\", \"C News Live\", chat_string)\r\n",
        "    chat_string = re.sub(r\"JamaicaObserver\", \"Jamaica Observer\", chat_string)\r\n",
        "    chat_string = re.sub(r\"TweetLikeItsSeptember11th2001\", \"Tweet like it is september 11th 2001\", chat_string)\r\n",
        "    chat_string = re.sub(r\"cbplawyers\", \"cbp lawyers\", chat_string)\r\n",
        "    chat_string = re.sub(r\"fewmorechat_strings\", \"few more chat_strings\", chat_string)\r\n",
        "    chat_string = re.sub(r\"BlackLivesMatter\", \"Black Lives Matter\", chat_string)\r\n",
        "    chat_string = re.sub(r\"cjoyner\", \"Chris Joyner\", chat_string)\r\n",
        "    chat_string = re.sub(r\"ENGvAUS\", \"England vs Australia\", chat_string)\r\n",
        "    chat_string = re.sub(r\"ScottWalker\", \"Scott Walker\", chat_string)\r\n",
        "    chat_string = re.sub(r\"MikeParrActor\", \"Michael Parr\", chat_string)\r\n",
        "    chat_string = re.sub(r\"4PlayThursdays\", \"Foreplay Thursdays\", chat_string)\r\n",
        "    chat_string = re.sub(r\"TGF2015\", \"Tontitown Grape Festival\", chat_string)\r\n",
        "    chat_string = re.sub(r\"realmandyrain\", \"Mandy Rain\", chat_string)\r\n",
        "    chat_string = re.sub(r\"GraysonDolan\", \"Grayson Dolan\", chat_string)\r\n",
        "    chat_string = re.sub(r\"ApolloBrown\", \"Apollo Brown\", chat_string)\r\n",
        "    chat_string = re.sub(r\"saddlebrooke\", \"Saddlebrooke\", chat_string)\r\n",
        "    chat_string = re.sub(r\"TontitownGrape\", \"Tontitown Grape\", chat_string)\r\n",
        "    chat_string = re.sub(r\"AbbsWinston\", \"Abbs Winston\", chat_string)\r\n",
        "    chat_string = re.sub(r\"ShaunKing\", \"Shaun King\", chat_string)\r\n",
        "    chat_string = re.sub(r\"MeekMill\", \"Meek Mill\", chat_string)\r\n",
        "    chat_string = re.sub(r\"TornadoGiveaway\", \"Tornado Giveaway\", chat_string)\r\n",
        "    chat_string = re.sub(r\"GRupdates\", \"GR updates\", chat_string)\r\n",
        "    chat_string = re.sub(r\"SouthDowns\", \"South Downs\", chat_string)\r\n",
        "    chat_string = re.sub(r\"braininjury\", \"brain injury\", chat_string)\r\n",
        "    chat_string = re.sub(r\"auspol\", \"Australian politics\", chat_string)\r\n",
        "    chat_string = re.sub(r\"PlannedParenthood\", \"Planned Parenthood\", chat_string)\r\n",
        "    chat_string = re.sub(r\"calgaryweather\", \"Calgary Weather\", chat_string)\r\n",
        "    chat_string = re.sub(r\"weallheartonedirection\", \"we all heart one direction\", chat_string)\r\n",
        "    chat_string = re.sub(r\"edsheeran\", \"Ed Sheeran\", chat_string)\r\n",
        "    chat_string = re.sub(r\"TrueHeroes\", \"True Heroes\", chat_string)\r\n",
        "    chat_string = re.sub(r\"S3XLEAK\", \"sex leak\", chat_string)\r\n",
        "    chat_string = re.sub(r\"ComplexMag\", \"Complex Magazine\", chat_string)\r\n",
        "    chat_string = re.sub(r\"TheAdvocateMag\", \"The Advocate Magazine\", chat_string)\r\n",
        "    chat_string = re.sub(r\"CityofCalgary\", \"City of Calgary\", chat_string)\r\n",
        "    chat_string = re.sub(r\"EbolaOutbreak\", \"Ebola Outbreak\", chat_string)\r\n",
        "    chat_string = re.sub(r\"SummerFate\", \"Summer Fate\", chat_string)\r\n",
        "    chat_string = re.sub(r\"RAmag\", \"Royal Academy Magazine\", chat_string)\r\n",
        "    chat_string = re.sub(r\"offers2go\", \"offers to go\", chat_string)\r\n",
        "    chat_string = re.sub(r\"foodscare\", \"food scare\", chat_string)\r\n",
        "    chat_string = re.sub(r\"MNPDNashville\", \"Metropolitan Nashville Police Department\", chat_string)\r\n",
        "    chat_string = re.sub(r\"TfLBusAlerts\", \"TfL Bus Alerts\", chat_string)\r\n",
        "    chat_string = re.sub(r\"GamerGate\", \"Gamer Gate\", chat_string)\r\n",
        "    chat_string = re.sub(r\"IHHen\", \"Humanitarian Relief\", chat_string)\r\n",
        "    chat_string = re.sub(r\"spinningbot\", \"spinning bot\", chat_string)\r\n",
        "    chat_string = re.sub(r\"ModiMinistry\", \"Modi Ministry\", chat_string)\r\n",
        "    chat_string = re.sub(r\"TAXIWAYS\", \"taxi ways\", chat_string)\r\n",
        "    chat_string = re.sub(r\"Calum5SOS\", \"Calum Hood\", chat_string)\r\n",
        "    chat_string = re.sub(r\"po_st\", \"po.st\", chat_string)\r\n",
        "    chat_string = re.sub(r\"scoopit\", \"scoop.it\", chat_string)\r\n",
        "    chat_string = re.sub(r\"UltimaLucha\", \"Ultima Lucha\", chat_string)\r\n",
        "    chat_string = re.sub(r\"JonathanFerrell\", \"Jonathan Ferrell\", chat_string)\r\n",
        "    chat_string = re.sub(r\"aria_ahrary\", \"Aria Ahrary\", chat_string)\r\n",
        "    chat_string = re.sub(r\"rapidcity\", \"Rapid City\", chat_string)\r\n",
        "    chat_string = re.sub(r\"OutBid\", \"outbid\", chat_string)\r\n",
        "    chat_string = re.sub(r\"lavenderpoetrycafe\", \"lavender poetry cafe\", chat_string)\r\n",
        "    chat_string = re.sub(r\"EudryLantiqua\", \"Eudry Lantiqua\", chat_string)\r\n",
        "    chat_string = re.sub(r\"15PM\", \"15 PM\", chat_string)\r\n",
        "    chat_string = re.sub(r\"OriginalFunko\", \"Funko\", chat_string)\r\n",
        "    chat_string = re.sub(r\"rightwaystan\", \"Richard Tan\", chat_string)\r\n",
        "    chat_string = re.sub(r\"CindyNoonan\", \"Cindy Noonan\", chat_string)\r\n",
        "    chat_string = re.sub(r\"RT_America\", \"RT America\", chat_string)\r\n",
        "    chat_string = re.sub(r\"narendramodi\", \"Narendra Modi\", chat_string)\r\n",
        "    chat_string = re.sub(r\"BakeOffFriends\", \"Bake Off Friends\", chat_string)\r\n",
        "    chat_string = re.sub(r\"TeamHendrick\", \"Hendrick Motorsports\", chat_string)\r\n",
        "    chat_string = re.sub(r\"alexbelloli\", \"Alex Belloli\", chat_string)\r\n",
        "    chat_string = re.sub(r\"itsjustinstuart\", \"Justin Stuart\", chat_string)\r\n",
        "    chat_string = re.sub(r\"gunsense\", \"gun sense\", chat_string)\r\n",
        "    chat_string = re.sub(r\"DebateQuestionsWeWantToHear\", \"debate questions we want to hear\", chat_string)\r\n",
        "    chat_string = re.sub(r\"RoyalCarribean\", \"Royal Carribean\", chat_string)\r\n",
        "    chat_string = re.sub(r\"samanthaturne19\", \"Samantha Turner\", chat_string)\r\n",
        "    chat_string = re.sub(r\"JonVoyage\", \"Jon Stewart\", chat_string)\r\n",
        "    chat_string = re.sub(r\"renew911health\", \"renew 911 health\", chat_string)\r\n",
        "    chat_string = re.sub(r\"SuryaRay\", \"Surya Ray\", chat_string)\r\n",
        "    chat_string = re.sub(r\"pattonoswalt\", \"Patton Oswalt\", chat_string)\r\n",
        "    chat_string = re.sub(r\"minhazmerchant\", \"Minhaz Merchant\", chat_string)\r\n",
        "    chat_string = re.sub(r\"TLVFaces\", \"Israel Diaspora Coalition\", chat_string)\r\n",
        "    chat_string = re.sub(r\"pmarca\", \"Marc Andreessen\", chat_string)\r\n",
        "    chat_string = re.sub(r\"pdx911\", \"Portland Police\", chat_string)\r\n",
        "    chat_string = re.sub(r\"jamaicaplain\", \"Jamaica Plain\", chat_string)\r\n",
        "    chat_string = re.sub(r\"Japton\", \"Arkansas\", chat_string)\r\n",
        "    chat_string = re.sub(r\"RouteComplex\", \"Route Complex\", chat_string)\r\n",
        "    chat_string = re.sub(r\"INSubcontinent\", \"Indian Subcontinent\", chat_string)\r\n",
        "    chat_string = re.sub(r\"NJTurnpike\", \"New Jersey Turnpike\", chat_string)\r\n",
        "    chat_string = re.sub(r\"Politifiact\", \"PolitiFact\", chat_string)\r\n",
        "    chat_string = re.sub(r\"Hiroshima70\", \"Hiroshima\", chat_string)\r\n",
        "    chat_string = re.sub(r\"GMMBC\", \"Greater Mt Moriah Baptist Church\", chat_string)\r\n",
        "    chat_string = re.sub(r\"versethe\", \"verse the\", chat_string)\r\n",
        "    chat_string = re.sub(r\"TubeStrike\", \"Tube Strike\", chat_string)\r\n",
        "    chat_string = re.sub(r\"MissionHills\", \"Mission Hills\", chat_string)\r\n",
        "    chat_string = re.sub(r\"ProtectDenaliWolves\", \"Protect Denali Wolves\", chat_string)\r\n",
        "    chat_string = re.sub(r\"NANKANA\", \"Nankana\", chat_string)\r\n",
        "    chat_string = re.sub(r\"SAHIB\", \"Sahib\", chat_string)\r\n",
        "    chat_string = re.sub(r\"PAKPATTAN\", \"Pakpattan\", chat_string)\r\n",
        "    chat_string = re.sub(r\"Newz_Sacramento\", \"News Sacramento\", chat_string)\r\n",
        "    chat_string = re.sub(r\"gofundme\", \"go fund me\", chat_string)\r\n",
        "    chat_string = re.sub(r\"pmharper\", \"Stephen Harper\", chat_string)\r\n",
        "    chat_string = re.sub(r\"IvanBerroa\", \"Ivan Berroa\", chat_string)\r\n",
        "    chat_string = re.sub(r\"LosDelSonido\", \"Los Del Sonido\", chat_string)\r\n",
        "    chat_string = re.sub(r\"bancodeseries\", \"banco de series\", chat_string)\r\n",
        "    chat_string = re.sub(r\"timkaine\", \"Tim Kaine\", chat_string)\r\n",
        "    chat_string = re.sub(r\"IdentityTheft\", \"Identity Theft\", chat_string)\r\n",
        "    chat_string = re.sub(r\"AllLivesMatter\", \"All Lives Matter\", chat_string)\r\n",
        "    chat_string = re.sub(r\"mishacollins\", \"Misha Collins\", chat_string)\r\n",
        "    chat_string = re.sub(r\"BillNeelyNBC\", \"Bill Neely\", chat_string)\r\n",
        "    chat_string = re.sub(r\"BeClearOnCancer\", \"be clear on cancer\", chat_string)\r\n",
        "    chat_string = re.sub(r\"Kowing\", \"Knowing\", chat_string)\r\n",
        "    chat_string = re.sub(r\"ScreamQueens\", \"Scream Queens\", chat_string)\r\n",
        "    chat_string = re.sub(r\"AskCharley\", \"Ask Charley\", chat_string)\r\n",
        "    chat_string = re.sub(r\"BlizzHeroes\", \"Heroes of the Storm\", chat_string)\r\n",
        "    chat_string = re.sub(r\"BradleyBrad47\", \"Bradley Brad\", chat_string)\r\n",
        "    chat_string = re.sub(r\"HannaPH\", \"Typhoon Hanna\", chat_string)\r\n",
        "    chat_string = re.sub(r\"meinlcymbals\", \"MEINL Cymbals\", chat_string)\r\n",
        "    chat_string = re.sub(r\"Ptbo\", \"Peterborough\", chat_string)\r\n",
        "    chat_string = re.sub(r\"cnnbrk\", \"CNN Breaking News\", chat_string)\r\n",
        "    chat_string = re.sub(r\"IndianNews\", \"Indian News\", chat_string)\r\n",
        "    chat_string = re.sub(r\"savebees\", \"save bees\", chat_string)\r\n",
        "    chat_string = re.sub(r\"GreenHarvard\", \"Green Harvard\", chat_string)\r\n",
        "    chat_string = re.sub(r\"StandwithPP\", \"Stand with planned parenthood\", chat_string)\r\n",
        "    chat_string = re.sub(r\"hermancranston\", \"Herman Cranston\", chat_string)\r\n",
        "    chat_string = re.sub(r\"WMUR9\", \"WMUR-TV\", chat_string)\r\n",
        "    chat_string = re.sub(r\"RockBottomRadFM\", \"Rock Bottom Radio\", chat_string)\r\n",
        "    chat_string = re.sub(r\"ameenshaikh3\", \"Ameen Shaikh\", chat_string)\r\n",
        "    chat_string = re.sub(r\"ProSyn\", \"Project Syndicate\", chat_string)\r\n",
        "    chat_string = re.sub(r\"Daesh\", \"ISIS\", chat_string)\r\n",
        "    chat_string = re.sub(r\"s2g\", \"swear to god\", chat_string)\r\n",
        "    chat_string = re.sub(r\"listenlive\", \"listen live\", chat_string)\r\n",
        "    chat_string = re.sub(r\"CDCgov\", \"Centers for Disease Control and Prevention\", chat_string)\r\n",
        "    chat_string = re.sub(r\"FoxNew\", \"Fox News\", chat_string)\r\n",
        "    chat_string = re.sub(r\"CBSBigBrother\", \"Big Brother\", chat_string)\r\n",
        "    chat_string = re.sub(r\"JulieDiCaro\", \"Julie DiCaro\", chat_string)\r\n",
        "    chat_string = re.sub(r\"theadvocatemag\", \"The Advocate Magazine\", chat_string)\r\n",
        "    chat_string = re.sub(r\"RohnertParkDPS\", \"Rohnert Park Police Department\", chat_string)\r\n",
        "    chat_string = re.sub(r\"THISIZBWRIGHT\", \"Bonnie Wright\", chat_string)\r\n",
        "    chat_string = re.sub(r\"Popularmmos\", \"Popular MMOs\", chat_string)\r\n",
        "    chat_string = re.sub(r\"WildHorses\", \"Wild Horses\", chat_string)\r\n",
        "    chat_string = re.sub(r\"FantasticFour\", \"Fantastic Four\", chat_string)\r\n",
        "    chat_string = re.sub(r\"HORNDALE\", \"Horndale\", chat_string)\r\n",
        "    chat_string = re.sub(r\"PINER\", \"Piner\", chat_string)\r\n",
        "    chat_string = re.sub(r\"BathAndNorthEastSomerset\", \"Bath and North East Somerset\", chat_string)\r\n",
        "    chat_string = re.sub(r\"thatswhatfriendsarefor\", \"that is what friends are for\", chat_string)\r\n",
        "    chat_string = re.sub(r\"residualincome\", \"residual income\", chat_string)\r\n",
        "    chat_string = re.sub(r\"YahooNewsDigest\", \"Yahoo News Digest\", chat_string)\r\n",
        "    chat_string = re.sub(r\"MalaysiaAirlines\", \"Malaysia Airlines\", chat_string)\r\n",
        "    chat_string = re.sub(r\"AmazonDeals\", \"Amazon Deals\", chat_string)\r\n",
        "    chat_string = re.sub(r\"MissCharleyWebb\", \"Charley Webb\", chat_string)\r\n",
        "    chat_string = re.sub(r\"shoalstraffic\", \"shoals traffic\", chat_string)\r\n",
        "    chat_string = re.sub(r\"GeorgeFoster72\", \"George Foster\", chat_string)\r\n",
        "    chat_string = re.sub(r\"pop2015\", \"pop 2015\", chat_string)\r\n",
        "    chat_string = re.sub(r\"_PokemonCards_\", \"Pokemon Cards\", chat_string)\r\n",
        "    chat_string = re.sub(r\"DianneG\", \"Dianne Gallagher\", chat_string)\r\n",
        "    chat_string = re.sub(r\"KashmirConflict\", \"Kashmir Conflict\", chat_string)\r\n",
        "    chat_string = re.sub(r\"BritishBakeOff\", \"British Bake Off\", chat_string)\r\n",
        "    chat_string = re.sub(r\"FreeKashmir\", \"Free Kashmir\", chat_string)\r\n",
        "    chat_string = re.sub(r\"mattmosley\", \"Matt Mosley\", chat_string)\r\n",
        "    chat_string = re.sub(r\"BishopFred\", \"Bishop Fred\", chat_string)\r\n",
        "    chat_string = re.sub(r\"EndConflict\", \"End Conflict\", chat_string)\r\n",
        "    chat_string = re.sub(r\"EndOccupation\", \"End Occupation\", chat_string)\r\n",
        "    chat_string = re.sub(r\"UNHEALED\", \"unhealed\", chat_string)\r\n",
        "    chat_string = re.sub(r\"CharlesDagnall\", \"Charles Dagnall\", chat_string)\r\n",
        "    chat_string = re.sub(r\"Latestnews\", \"Latest news\", chat_string)\r\n",
        "    chat_string = re.sub(r\"KindleCountdown\", \"Kindle Countdown\", chat_string)\r\n",
        "    chat_string = re.sub(r\"NoMoreHandouts\", \"No More Handouts\", chat_string)\r\n",
        "    chat_string = re.sub(r\"datingtips\", \"dating tips\", chat_string)\r\n",
        "    chat_string = re.sub(r\"charlesadler\", \"Charles Adler\", chat_string)\r\n",
        "    chat_string = re.sub(r\"twia\", \"Texas Windstorm Insurance Association\", chat_string)\r\n",
        "    chat_string = re.sub(r\"txlege\", \"Texas Legislature\", chat_string)\r\n",
        "    chat_string = re.sub(r\"WindstormInsurer\", \"Windstorm Insurer\", chat_string)\r\n",
        "    chat_string = re.sub(r\"Newss\", \"News\", chat_string)\r\n",
        "    chat_string = re.sub(r\"hempoil\", \"hemp oil\", chat_string)\r\n",
        "    chat_string = re.sub(r\"CommoditiesAre\", \"Commodities are\", chat_string)\r\n",
        "    chat_string = re.sub(r\"tubestrike\", \"tube strike\", chat_string)\r\n",
        "    chat_string = re.sub(r\"JoeNBC\", \"Joe Scarborough\", chat_string)\r\n",
        "    chat_string = re.sub(r\"LiteraryCakes\", \"Literary Cakes\", chat_string)\r\n",
        "    chat_string = re.sub(r\"TI5\", \"The International 5\", chat_string)\r\n",
        "    chat_string = re.sub(r\"thehill\", \"the hill\", chat_string)\r\n",
        "    chat_string = re.sub(r\"3others\", \"3 others\", chat_string)\r\n",
        "    chat_string = re.sub(r\"stighefootball\", \"Sam Tighe\", chat_string)\r\n",
        "    chat_string = re.sub(r\"whatstheimportantvideo\", \"what is the important video\", chat_string)\r\n",
        "    chat_string = re.sub(r\"ClaudioMeloni\", \"Claudio Meloni\", chat_string)\r\n",
        "    chat_string = re.sub(r\"DukeSkywalker\", \"Duke Skywalker\", chat_string)\r\n",
        "    chat_string = re.sub(r\"carsonmwr\", \"Fort Carson\", chat_string)\r\n",
        "    chat_string = re.sub(r\"offdishduty\", \"off dish duty\", chat_string)\r\n",
        "    chat_string = re.sub(r\"andword\", \"and word\", chat_string)\r\n",
        "    chat_string = re.sub(r\"rhodeisland\", \"Rhode Island\", chat_string)\r\n",
        "    chat_string = re.sub(r\"easternoregon\", \"Eastern Oregon\", chat_string)\r\n",
        "    chat_string = re.sub(r\"WAwildfire\", \"Washington Wildfire\", chat_string)\r\n",
        "    chat_string = re.sub(r\"fingerrockfire\", \"Finger Rock Fire\", chat_string)\r\n",
        "    chat_string = re.sub(r\"57am\", \"57 am\", chat_string)\r\n",
        "    chat_string = re.sub(r\"fingerrockfire\", \"Finger Rock Fire\", chat_string)\r\n",
        "    chat_string = re.sub(r\"JacobHoggard\", \"Jacob Hoggard\", chat_string)\r\n",
        "    chat_string = re.sub(r\"newnewnew\", \"new new new\", chat_string)\r\n",
        "    chat_string = re.sub(r\"under50\", \"under 50\", chat_string)\r\n",
        "    chat_string = re.sub(r\"getitbeforeitsgone\", \"get it before it is gone\", chat_string)\r\n",
        "    chat_string = re.sub(r\"freshoutofthebox\", \"fresh out of the box\", chat_string)\r\n",
        "    chat_string = re.sub(r\"amwriting\", \"am writing\", chat_string)\r\n",
        "    chat_string = re.sub(r\"Bokoharm\", \"Boko Haram\", chat_string)\r\n",
        "    chat_string = re.sub(r\"Nowlike\", \"Now like\", chat_string)\r\n",
        "    chat_string = re.sub(r\"seasonfrom\", \"season from\", chat_string)\r\n",
        "    chat_string = re.sub(r\"epicente\", \"epicenter\", chat_string)\r\n",
        "    chat_string = re.sub(r\"epicenterr\", \"epicenter\", chat_string)\r\n",
        "    chat_string = re.sub(r\"sicklife\", \"sick life\", chat_string)\r\n",
        "    chat_string = re.sub(r\"yycweather\", \"Calgary Weather\", chat_string)\r\n",
        "    chat_string = re.sub(r\"calgarysun\", \"Calgary Sun\", chat_string)\r\n",
        "    chat_string = re.sub(r\"approachng\", \"approaching\", chat_string)\r\n",
        "    chat_string = re.sub(r\"evng\", \"evening\", chat_string)\r\n",
        "    chat_string = re.sub(r\"Sumthng\", \"something\", chat_string)\r\n",
        "    chat_string = re.sub(r\"EllenPompeo\", \"Ellen Pompeo\", chat_string)\r\n",
        "    chat_string = re.sub(r\"shondarhimes\", \"Shonda Rhimes\", chat_string)\r\n",
        "    chat_string = re.sub(r\"ABCNetwork\", \"ABC Network\", chat_string)\r\n",
        "    chat_string = re.sub(r\"SushmaSwaraj\", \"Sushma Swaraj\", chat_string)\r\n",
        "    chat_string = re.sub(r\"pray4japan\", \"Pray for Japan\", chat_string)\r\n",
        "    chat_string = re.sub(r\"hope4japan\", \"Hope for Japan\", chat_string)\r\n",
        "    chat_string = re.sub(r\"Illusionimagess\", \"Illusion images\", chat_string)\r\n",
        "    chat_string = re.sub(r\"SummerUnderTheStars\", \"Summer Under The Stars\", chat_string)\r\n",
        "    chat_string = re.sub(r\"ShallWeDance\", \"Shall We Dance\", chat_string)\r\n",
        "    chat_string = re.sub(r\"TCMParty\", \"TCM Party\", chat_string)\r\n",
        "    chat_string = re.sub(r\"marijuananews\", \"marijuana news\", chat_string)\r\n",
        "    chat_string = re.sub(r\"onbeingwithKristaTippett\", \"on being with Krista Tippett\", chat_string)\r\n",
        "    chat_string = re.sub(r\"Beingchat_strings\", \"Being chat_strings\", chat_string)\r\n",
        "    chat_string = re.sub(r\"newauthors\", \"new authors\", chat_string)\r\n",
        "    chat_string = re.sub(r\"remedyyyy\", \"remedy\", chat_string)\r\n",
        "    chat_string = re.sub(r\"44PM\", \"44 PM\", chat_string)\r\n",
        "    chat_string = re.sub(r\"HeadlinesApp\", \"Headlines App\", chat_string)\r\n",
        "    chat_string = re.sub(r\"40PM\", \"40 PM\", chat_string)\r\n",
        "    chat_string = re.sub(r\"myswc\", \"Severe Weather Center\", chat_string)\r\n",
        "    chat_string = re.sub(r\"ithats\", \"that is\", chat_string)\r\n",
        "    chat_string = re.sub(r\"icouldsitinthismomentforever\", \"I could sit in this moment forever\", chat_string)\r\n",
        "    chat_string = re.sub(r\"FatLoss\", \"Fat Loss\", chat_string)\r\n",
        "    chat_string = re.sub(r\"02PM\", \"02 PM\", chat_string)\r\n",
        "    chat_string = re.sub(r\"MetroFmTalk\", \"Metro Fm Talk\", chat_string)\r\n",
        "    chat_string = re.sub(r\"Bstrd\", \"bastard\", chat_string)\r\n",
        "    chat_string = re.sub(r\"bldy\", \"bloody\", chat_string)\r\n",
        "    chat_string = re.sub(r\"MetrofmTalk\", \"Metro Fm Talk\", chat_string)\r\n",
        "    chat_string = re.sub(r\"terrorismturn\", \"terrorism turn\", chat_string)\r\n",
        "    chat_string = re.sub(r\"BBCNewsAsia\", \"BBC News Asia\", chat_string)\r\n",
        "    chat_string = re.sub(r\"BehindTheScenes\", \"Behind The Scenes\", chat_string)\r\n",
        "    chat_string = re.sub(r\"GeorgeTakei\", \"George Takei\", chat_string)\r\n",
        "    chat_string = re.sub(r\"WomensWeeklyMag\", \"Womens Weekly Magazine\", chat_string)\r\n",
        "    chat_string = re.sub(r\"SurvivorsGuidetoEarth\", \"Survivors Guide to Earth\", chat_string)\r\n",
        "    chat_string = re.sub(r\"incubusband\", \"incubus band\", chat_string)\r\n",
        "    chat_string = re.sub(r\"Babypicturethis\", \"Baby picture this\", chat_string)\r\n",
        "    chat_string = re.sub(r\"BombEffects\", \"Bomb Effects\", chat_string)\r\n",
        "    chat_string = re.sub(r\"win10\", \"Windows 10\", chat_string)\r\n",
        "    chat_string = re.sub(r\"idkidk\", \"I do not know I do not know\", chat_string)\r\n",
        "    chat_string = re.sub(r\"TheWalkingDead\", \"The Walking Dead\", chat_string)\r\n",
        "    chat_string = re.sub(r\"amyschumer\", \"Amy Schumer\", chat_string)\r\n",
        "    chat_string = re.sub(r\"crewlist\", \"crew list\", chat_string)\r\n",
        "    chat_string = re.sub(r\"Erdogans\", \"Erdogan\", chat_string)\r\n",
        "    chat_string = re.sub(r\"BBCLive\", \"BBC Live\", chat_string)\r\n",
        "    chat_string = re.sub(r\"TonyAbbottMHR\", \"Tony Abbott\", chat_string)\r\n",
        "    chat_string = re.sub(r\"paulmyerscough\", \"Paul Myerscough\", chat_string)\r\n",
        "    chat_string = re.sub(r\"georgegallagher\", \"George Gallagher\", chat_string)\r\n",
        "    chat_string = re.sub(r\"JimmieJohnson\", \"Jimmie Johnson\", chat_string)\r\n",
        "    chat_string = re.sub(r\"pctool\", \"pc tool\", chat_string)\r\n",
        "    chat_string = re.sub(r\"DoingHashtagsRight\", \"Doing Hashtags Right\", chat_string)\r\n",
        "    chat_string = re.sub(r\"ThrowbackThursday\", \"Throwback Thursday\", chat_string)\r\n",
        "    chat_string = re.sub(r\"SnowBackSunday\", \"Snowback Sunday\", chat_string)\r\n",
        "    chat_string = re.sub(r\"LakeEffect\", \"Lake Effect\", chat_string)\r\n",
        "    chat_string = re.sub(r\"RTphotographyUK\", \"Richard Thomas Photography UK\", chat_string)\r\n",
        "    chat_string = re.sub(r\"BigBang_CBS\", \"Big Bang CBS\", chat_string)\r\n",
        "    chat_string = re.sub(r\"writerslife\", \"writers life\", chat_string)\r\n",
        "    chat_string = re.sub(r\"NaturalBirth\", \"Natural Birth\", chat_string)\r\n",
        "    chat_string = re.sub(r\"UnusualWords\", \"Unusual Words\", chat_string)\r\n",
        "    chat_string = re.sub(r\"wizkhalifa\", \"Wiz Khalifa\", chat_string)\r\n",
        "    chat_string = re.sub(r\"acreativedc\", \"a creative DC\", chat_string)\r\n",
        "    chat_string = re.sub(r\"vscodc\", \"vsco DC\", chat_string)\r\n",
        "    chat_string = re.sub(r\"VSCOcam\", \"vsco camera\", chat_string)\r\n",
        "    chat_string = re.sub(r\"TheBEACHDC\", \"The beach DC\", chat_string)\r\n",
        "    chat_string = re.sub(r\"buildingmuseum\", \"building museum\", chat_string)\r\n",
        "    chat_string = re.sub(r\"WorldOil\", \"World Oil\", chat_string)\r\n",
        "    chat_string = re.sub(r\"redwedding\", \"red wedding\", chat_string)\r\n",
        "    chat_string = re.sub(r\"AmazingRaceCanada\", \"Amazing Race Canada\", chat_string)\r\n",
        "    chat_string = re.sub(r\"WakeUpAmerica\", \"Wake Up America\", chat_string)\r\n",
        "    chat_string = re.sub(r\"\\\\Allahuakbar\\\\\", \"Allahu Akbar\", chat_string)\r\n",
        "    chat_string = re.sub(r\"bleased\", \"blessed\", chat_string)\r\n",
        "    chat_string = re.sub(r\"nigeriantribune\", \"Nigerian Tribune\", chat_string)\r\n",
        "    chat_string = re.sub(r\"HIDEO_KOJIMA_EN\", \"Hideo Kojima\", chat_string)\r\n",
        "    chat_string = re.sub(r\"FusionFestival\", \"Fusion Festival\", chat_string)\r\n",
        "    chat_string = re.sub(r\"50Mixed\", \"50 Mixed\", chat_string)\r\n",
        "    chat_string = re.sub(r\"NoAgenda\", \"No Agenda\", chat_string)\r\n",
        "    chat_string = re.sub(r\"WhiteGenocide\", \"White Genocide\", chat_string)\r\n",
        "    chat_string = re.sub(r\"dirtylying\", \"dirty lying\", chat_string)\r\n",
        "    chat_string = re.sub(r\"SyrianRefugees\", \"Syrian Refugees\", chat_string)\r\n",
        "    chat_string = re.sub(r\"changetheworld\", \"change the world\", chat_string)\r\n",
        "    chat_string = re.sub(r\"Ebolacase\", \"Ebola case\", chat_string)\r\n",
        "    chat_string = re.sub(r\"mcgtech\", \"mcg technologies\", chat_string)\r\n",
        "    chat_string = re.sub(r\"withweapons\", \"with weapons\", chat_string)\r\n",
        "    chat_string = re.sub(r\"advancedwarfare\", \"advanced warfare\", chat_string)\r\n",
        "    chat_string = re.sub(r\"letsFootball\", \"let us Football\", chat_string)\r\n",
        "    chat_string = re.sub(r\"LateNiteMix\", \"late night mix\", chat_string)\r\n",
        "    chat_string = re.sub(r\"PhilCollinsFeed\", \"Phil Collins\", chat_string)\r\n",
        "    chat_string = re.sub(r\"RudyHavenstein\", \"Rudy Havenstein\", chat_string)\r\n",
        "    chat_string = re.sub(r\"22PM\", \"22 PM\", chat_string)\r\n",
        "    chat_string = re.sub(r\"54am\", \"54 AM\", chat_string)\r\n",
        "    chat_string = re.sub(r\"38am\", \"38 AM\", chat_string)\r\n",
        "    chat_string = re.sub(r\"OldFolkExplainStuff\", \"Old Folk Explain Stuff\", chat_string)\r\n",
        "    chat_string = re.sub(r\"BlacklivesMatter\", \"Black Lives Matter\", chat_string)\r\n",
        "    chat_string = re.sub(r\"InsaneLimits\", \"Insane Limits\", chat_string)\r\n",
        "    chat_string = re.sub(r\"youcantsitwithus\", \"you cannot sit with us\", chat_string)\r\n",
        "    chat_string = re.sub(r\"2k15\", \"2015\", chat_string)\r\n",
        "    chat_string = re.sub(r\"TheIran\", \"Iran\", chat_string)\r\n",
        "    chat_string = re.sub(r\"JimmyFallon\", \"Jimmy Fallon\", chat_string)\r\n",
        "    chat_string = re.sub(r\"AlbertBrooks\", \"Albert Brooks\", chat_string)\r\n",
        "    chat_string = re.sub(r\"defense_news\", \"defense news\", chat_string)\r\n",
        "    chat_string = re.sub(r\"nuclearrcSA\", \"Nuclear Risk Control Self Assessment\", chat_string)\r\n",
        "    chat_string = re.sub(r\"Auspol\", \"Australia Politics\", chat_string)\r\n",
        "    chat_string = re.sub(r\"NuclearPower\", \"Nuclear Power\", chat_string)\r\n",
        "    chat_string = re.sub(r\"WhiteTerrorism\", \"White Terrorism\", chat_string)\r\n",
        "    chat_string = re.sub(r\"truthfrequencyradio\", \"Truth Frequency Radio\", chat_string)\r\n",
        "    chat_string = re.sub(r\"ErasureIsNotEquality\", \"Erasure is not equality\", chat_string)\r\n",
        "    chat_string = re.sub(r\"ProBonoNews\", \"Pro Bono News\", chat_string)\r\n",
        "    chat_string = re.sub(r\"JakartaPost\", \"Jakarta Post\", chat_string)\r\n",
        "    chat_string = re.sub(r\"toopainful\", \"too painful\", chat_string)\r\n",
        "    chat_string = re.sub(r\"melindahaunton\", \"Melinda Haunton\", chat_string)\r\n",
        "    chat_string = re.sub(r\"NoNukes\", \"No Nukes\", chat_string)\r\n",
        "    chat_string = re.sub(r\"curryspcworld\", \"Currys PC World\", chat_string)\r\n",
        "    chat_string = re.sub(r\"ineedcake\", \"I need cake\", chat_string)\r\n",
        "    chat_string = re.sub(r\"blackforestgateau\", \"black forest gateau\", chat_string)\r\n",
        "    chat_string = re.sub(r\"BBCOne\", \"BBC One\", chat_string)\r\n",
        "    chat_string = re.sub(r\"AlexxPage\", \"Alex Page\", chat_string)\r\n",
        "    chat_string = re.sub(r\"jonathanserrie\", \"Jonathan Serrie\", chat_string)\r\n",
        "    chat_string = re.sub(r\"SocialJerkBlog\", \"Social Jerk Blog\", chat_string)\r\n",
        "    chat_string = re.sub(r\"ChelseaVPeretti\", \"Chelsea Peretti\", chat_string)\r\n",
        "    chat_string = re.sub(r\"irongiant\", \"iron giant\", chat_string)\r\n",
        "    chat_string = re.sub(r\"RonFunches\", \"Ron Funches\", chat_string)\r\n",
        "    chat_string = re.sub(r\"TimCook\", \"Tim Cook\", chat_string)\r\n",
        "    chat_string = re.sub(r\"sebastianstanisaliveandwell\", \"Sebastian Stan is alive and well\", chat_string)\r\n",
        "    chat_string = re.sub(r\"Madsummer\", \"Mad summer\", chat_string)\r\n",
        "    chat_string = re.sub(r\"NowYouKnow\", \"Now you know\", chat_string)\r\n",
        "    chat_string = re.sub(r\"concertphotography\", \"concert photography\", chat_string)\r\n",
        "    chat_string = re.sub(r\"TomLandry\", \"Tom Landry\", chat_string)\r\n",
        "    chat_string = re.sub(r\"showgirldayoff\", \"show girl day off\", chat_string)\r\n",
        "    chat_string = re.sub(r\"Yougslavia\", \"Yugoslavia\", chat_string)\r\n",
        "    chat_string = re.sub(r\"QuantumDataInformatics\", \"Quantum Data Informatics\", chat_string)\r\n",
        "    chat_string = re.sub(r\"FromTheDesk\", \"From The Desk\", chat_string)\r\n",
        "    chat_string = re.sub(r\"TheaterTrial\", \"Theater Trial\", chat_string)\r\n",
        "    chat_string = re.sub(r\"CatoInstitute\", \"Cato Institute\", chat_string)\r\n",
        "    chat_string = re.sub(r\"EmekaGift\", \"Emeka Gift\", chat_string)\r\n",
        "    chat_string = re.sub(r\"LetsBe_Rational\", \"Let us be rational\", chat_string)\r\n",
        "    chat_string = re.sub(r\"Cynicalreality\", \"Cynical reality\", chat_string)\r\n",
        "    chat_string = re.sub(r\"FredOlsenCruise\", \"Fred Olsen Cruise\", chat_string)\r\n",
        "    chat_string = re.sub(r\"NotSorry\", \"not sorry\", chat_string)\r\n",
        "    chat_string = re.sub(r\"UseYourWords\", \"use your words\", chat_string)\r\n",
        "    chat_string = re.sub(r\"WordoftheDay\", \"word of the day\", chat_string)\r\n",
        "    chat_string = re.sub(r\"Dictionarycom\", \"Dictionary.com\", chat_string)\r\n",
        "    chat_string = re.sub(r\"TheBrooklynLife\", \"The Brooklyn Life\", chat_string)\r\n",
        "    chat_string = re.sub(r\"jokethey\", \"joke they\", chat_string)\r\n",
        "    chat_string = re.sub(r\"nflweek1picks\", \"NFL week 1 picks\", chat_string)\r\n",
        "    chat_string = re.sub(r\"uiseful\", \"useful\", chat_string)\r\n",
        "    chat_string = re.sub(r\"JusticeDotOrg\", \"The American Association for Justice\", chat_string)\r\n",
        "    chat_string = re.sub(r\"autoaccidents\", \"auto accidents\", chat_string)\r\n",
        "    chat_string = re.sub(r\"SteveGursten\", \"Steve Gursten\", chat_string)\r\n",
        "    chat_string = re.sub(r\"MichiganAutoLaw\", \"Michigan Auto Law\", chat_string)\r\n",
        "    chat_string = re.sub(r\"birdgang\", \"bird gang\", chat_string)\r\n",
        "    chat_string = re.sub(r\"nflnetwork\", \"NFL Network\", chat_string)\r\n",
        "    chat_string = re.sub(r\"NYDNSports\", \"NY Daily News Sports\", chat_string)\r\n",
        "    chat_string = re.sub(r\"RVacchianoNYDN\", \"Ralph Vacchiano NY Daily News\", chat_string)\r\n",
        "    chat_string = re.sub(r\"EdmontonEsks\", \"Edmonton Eskimos\", chat_string)\r\n",
        "    chat_string = re.sub(r\"david_brelsford\", \"David Brelsford\", chat_string)\r\n",
        "    chat_string = re.sub(r\"TOI_India\", \"The Times of India\", chat_string)\r\n",
        "    chat_string = re.sub(r\"hegot\", \"he got\", chat_string)\r\n",
        "    chat_string = re.sub(r\"SkinsOn9\", \"Skins on 9\", chat_string)\r\n",
        "    chat_string = re.sub(r\"sothathappened\", \"so that happened\", chat_string)\r\n",
        "    chat_string = re.sub(r\"LCOutOfDoors\", \"LC Out Of Doors\", chat_string)\r\n",
        "    chat_string = re.sub(r\"NationFirst\", \"Nation First\", chat_string)\r\n",
        "    chat_string = re.sub(r\"IndiaToday\", \"India Today\", chat_string)\r\n",
        "    chat_string = re.sub(r\"HLPS\", \"helps\", chat_string)\r\n",
        "    chat_string = re.sub(r\"HOSTAGESTHROSW\", \"hostages throw\", chat_string)\r\n",
        "    chat_string = re.sub(r\"SNCTIONS\", \"sanctions\", chat_string)\r\n",
        "    chat_string = re.sub(r\"BidTime\", \"Bid Time\", chat_string)\r\n",
        "    chat_string = re.sub(r\"crunchysensible\", \"crunchy sensible\", chat_string)\r\n",
        "    chat_string = re.sub(r\"RandomActsOfRomance\", \"Random acts of romance\", chat_string)\r\n",
        "    chat_string = re.sub(r\"MomentsAtHill\", \"Moments at hill\", chat_string)\r\n",
        "    chat_string = re.sub(r\"eatshit\", \"eat shit\", chat_string)\r\n",
        "    chat_string = re.sub(r\"liveleakfun\", \"live leak fun\", chat_string)\r\n",
        "    chat_string = re.sub(r\"SahelNews\", \"Sahel News\", chat_string)\r\n",
        "    chat_string = re.sub(r\"abc7newsbayarea\", \"ABC 7 News Bay Area\", chat_string)\r\n",
        "    chat_string = re.sub(r\"facilitiesmanagement\", \"facilities management\", chat_string)\r\n",
        "    chat_string = re.sub(r\"facilitydude\", \"facility dude\", chat_string)\r\n",
        "    chat_string = re.sub(r\"CampLogistics\", \"Camp logistics\", chat_string)\r\n",
        "    chat_string = re.sub(r\"alaskapublic\", \"Alaska public\", chat_string)\r\n",
        "    chat_string = re.sub(r\"MarketResearch\", \"Market Research\", chat_string)\r\n",
        "    chat_string = re.sub(r\"AccuracyEsports\", \"Accuracy Esports\", chat_string)\r\n",
        "    chat_string = re.sub(r\"TheBodyShopAust\", \"The Body Shop Australia\", chat_string)\r\n",
        "    chat_string = re.sub(r\"yychail\", \"Calgary hail\", chat_string)\r\n",
        "    chat_string = re.sub(r\"yyctraffic\", \"Calgary traffic\", chat_string)\r\n",
        "    chat_string = re.sub(r\"eliotschool\", \"eliot school\", chat_string)\r\n",
        "    chat_string = re.sub(r\"TheBrokenCity\", \"The Broken City\", chat_string)\r\n",
        "    chat_string = re.sub(r\"OldsFireDept\", \"Olds Fire Department\", chat_string)\r\n",
        "    chat_string = re.sub(r\"RiverComplex\", \"River Complex\", chat_string)\r\n",
        "    chat_string = re.sub(r\"fieldworksmells\", \"field work smells\", chat_string)\r\n",
        "    chat_string = re.sub(r\"IranElection\", \"Iran Election\", chat_string)\r\n",
        "    chat_string = re.sub(r\"glowng\", \"glowing\", chat_string)\r\n",
        "    chat_string = re.sub(r\"kindlng\", \"kindling\", chat_string)\r\n",
        "    chat_string = re.sub(r\"riggd\", \"rigged\", chat_string)\r\n",
        "    chat_string = re.sub(r\"slownewsday\", \"slow news day\", chat_string)\r\n",
        "    chat_string = re.sub(r\"MyanmarFlood\", \"Myanmar Flood\", chat_string)\r\n",
        "    chat_string = re.sub(r\"abc7chicago\", \"ABC 7 Chicago\", chat_string)\r\n",
        "    chat_string = re.sub(r\"copolitics\", \"Colorado Politics\", chat_string)\r\n",
        "    chat_string = re.sub(r\"AdilGhumro\", \"Adil Ghumro\", chat_string)\r\n",
        "    chat_string = re.sub(r\"netbots\", \"net bots\", chat_string)\r\n",
        "    chat_string = re.sub(r\"byebyeroad\", \"bye bye road\", chat_string)\r\n",
        "    chat_string = re.sub(r\"massiveflooding\", \"massive flooding\", chat_string)\r\n",
        "    chat_string = re.sub(r\"EndofUS\", \"End of United States\", chat_string)\r\n",
        "    chat_string = re.sub(r\"35PM\", \"35 PM\", chat_string)\r\n",
        "    chat_string = re.sub(r\"greektheatrela\", \"Greek Theatre Los Angeles\", chat_string)\r\n",
        "    chat_string = re.sub(r\"76mins\", \"76 minutes\", chat_string)\r\n",
        "    chat_string = re.sub(r\"publicsafetyfirst\", \"public safety first\", chat_string)\r\n",
        "    chat_string = re.sub(r\"livesmatter\", \"lives matter\", chat_string)\r\n",
        "    chat_string = re.sub(r\"myhometown\", \"my hometown\", chat_string)\r\n",
        "    chat_string = re.sub(r\"tankerfire\", \"tanker fire\", chat_string)\r\n",
        "    chat_string = re.sub(r\"MEMORIALDAY\", \"memorial day\", chat_string)\r\n",
        "    chat_string = re.sub(r\"MEMORIAL_DAY\", \"memorial day\", chat_string)\r\n",
        "    chat_string = re.sub(r\"instaxbooty\", \"instagram booty\", chat_string)\r\n",
        "    chat_string = re.sub(r\"Jerusalem_Post\", \"Jerusalem Post\", chat_string)\r\n",
        "    chat_string = re.sub(r\"WayneRooney_INA\", \"Wayne Rooney\", chat_string)\r\n",
        "    chat_string = re.sub(r\"VirtualReality\", \"Virtual Reality\", chat_string)\r\n",
        "    chat_string = re.sub(r\"OculusRift\", \"Oculus Rift\", chat_string)\r\n",
        "    chat_string = re.sub(r\"OwenJones84\", \"Owen Jones\", chat_string)\r\n",
        "    chat_string = re.sub(r\"jeremycorbyn\", \"Jeremy Corbyn\", chat_string)\r\n",
        "    chat_string = re.sub(r\"paulrogers002\", \"Paul Rogers\", chat_string)\r\n",
        "    chat_string = re.sub(r\"mortalkombatx\", \"Mortal Kombat X\", chat_string)\r\n",
        "    chat_string = re.sub(r\"mortalkombat\", \"Mortal Kombat\", chat_string)\r\n",
        "    chat_string = re.sub(r\"FilipeCoelho92\", \"Filipe Coelho\", chat_string)\r\n",
        "    chat_string = re.sub(r\"OnlyQuakeNews\", \"Only Quake News\", chat_string)\r\n",
        "    chat_string = re.sub(r\"kostumes\", \"costumes\", chat_string)\r\n",
        "    chat_string = re.sub(r\"YEEESSSS\", \"yes\", chat_string)\r\n",
        "    chat_string = re.sub(r\"ToshikazuKatayama\", \"Toshikazu Katayama\", chat_string)\r\n",
        "    chat_string = re.sub(r\"IntlDevelopment\", \"Intl Development\", chat_string)\r\n",
        "    chat_string = re.sub(r\"ExtremeWeather\", \"Extreme Weather\", chat_string)\r\n",
        "    chat_string = re.sub(r\"WereNotGruberVoters\", \"We are not gruber voters\", chat_string)\r\n",
        "    chat_string = re.sub(r\"NewsThousands\", \"News Thousands\", chat_string)\r\n",
        "    chat_string = re.sub(r\"EdmundAdamus\", \"Edmund Adamus\", chat_string)\r\n",
        "    chat_string = re.sub(r\"EyewitnessWV\", \"Eye witness WV\", chat_string)\r\n",
        "    chat_string = re.sub(r\"PhiladelphiaMuseu\", \"Philadelphia Museum\", chat_string)\r\n",
        "    chat_string = re.sub(r\"DublinComicCon\", \"Dublin Comic Con\", chat_string)\r\n",
        "    chat_string = re.sub(r\"NicholasBrendon\", \"Nicholas Brendon\", chat_string)\r\n",
        "    chat_string = re.sub(r\"Alltheway80s\", \"All the way 80s\", chat_string)\r\n",
        "    chat_string = re.sub(r\"FromTheField\", \"From the field\", chat_string)\r\n",
        "    chat_string = re.sub(r\"NorthIowa\", \"North Iowa\", chat_string)\r\n",
        "    chat_string = re.sub(r\"WillowFire\", \"Willow Fire\", chat_string)\r\n",
        "    chat_string = re.sub(r\"MadRiverComplex\", \"Mad River Complex\", chat_string)\r\n",
        "    chat_string = re.sub(r\"feelingmanly\", \"feeling manly\", chat_string)\r\n",
        "    chat_string = re.sub(r\"stillnotoverit\", \"still not over it\", chat_string)\r\n",
        "    chat_string = re.sub(r\"FortitudeValley\", \"Fortitude Valley\", chat_string)\r\n",
        "    chat_string = re.sub(r\"CoastpowerlineTramTr\", \"Coast powerline\", chat_string)\r\n",
        "    chat_string = re.sub(r\"ServicesGold\", \"Services Gold\", chat_string)\r\n",
        "    chat_string = re.sub(r\"NewsbrokenEmergency\", \"News broken emergency\", chat_string)\r\n",
        "    chat_string = re.sub(r\"Evaucation\", \"evacuation\", chat_string)\r\n",
        "    chat_string = re.sub(r\"leaveevacuateexitbe\", \"leave evacuate exit be\", chat_string)\r\n",
        "    chat_string = re.sub(r\"P_EOPLE\", \"PEOPLE\", chat_string)\r\n",
        "    chat_string = re.sub(r\"Tubestrike\", \"tube strike\", chat_string)\r\n",
        "    chat_string = re.sub(r\"CLASS_SICK\", \"CLASS SICK\", chat_string)\r\n",
        "    chat_string = re.sub(r\"localplumber\", \"local plumber\", chat_string)\r\n",
        "    chat_string = re.sub(r\"awesomejobsiri\", \"awesome job siri\", chat_string)\r\n",
        "    chat_string = re.sub(r\"PayForItHow\", \"Pay for it how\", chat_string)\r\n",
        "    chat_string = re.sub(r\"ThisIsAfrica\", \"This is Africa\", chat_string)\r\n",
        "    chat_string = re.sub(r\"crimeairnetwork\", \"crime air network\", chat_string)\r\n",
        "    chat_string = re.sub(r\"KimAcheson\", \"Kim Acheson\", chat_string)\r\n",
        "    chat_string = re.sub(r\"cityofcalgary\", \"City of Calgary\", chat_string)\r\n",
        "    chat_string = re.sub(r\"prosyndicate\", \"pro syndicate\", chat_string)\r\n",
        "    chat_string = re.sub(r\"660NEWS\", \"660 NEWS\", chat_string)\r\n",
        "    chat_string = re.sub(r\"BusInsMagazine\", \"Business Insurance Magazine\", chat_string)\r\n",
        "    chat_string = re.sub(r\"wfocus\", \"focus\", chat_string)\r\n",
        "    chat_string = re.sub(r\"ShastaDam\", \"Shasta Dam\", chat_string)\r\n",
        "    chat_string = re.sub(r\"go2MarkFranco\", \"Mark Franco\", chat_string)\r\n",
        "    chat_string = re.sub(r\"StephGHinojosa\", \"Steph Hinojosa\", chat_string)\r\n",
        "    chat_string = re.sub(r\"Nashgrier\", \"Nash Grier\", chat_string)\r\n",
        "    chat_string = re.sub(r\"NashNewVideo\", \"Nash new video\", chat_string)\r\n",
        "    chat_string = re.sub(r\"IWouldntGetElectedBecause\", \"I would not get elected because\", chat_string)\r\n",
        "    chat_string = re.sub(r\"SHGames\", \"Sledgehammer Games\", chat_string)\r\n",
        "    chat_string = re.sub(r\"bedhair\", \"bed hair\", chat_string)\r\n",
        "    chat_string = re.sub(r\"JoelHeyman\", \"Joel Heyman\", chat_string)\r\n",
        "    chat_string = re.sub(r\"viaYouTube\", \"via YouTube\", chat_string)\r\n",
        "\r\n",
        "    return chat_string"
      ],
      "execution_count": null,
      "outputs": []
    },
    {
      "cell_type": "code",
      "metadata": {
        "id": "LajP5q4XYOSk"
      },
      "source": [
        ""
      ],
      "execution_count": null,
      "outputs": []
    }
  ]
}