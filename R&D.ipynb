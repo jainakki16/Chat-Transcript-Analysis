{
  "nbformat": 4,
  "nbformat_minor": 0,
  "metadata": {
    "colab": {
      "name": "R&D.ipynb",
      "provenance": [],
      "collapsed_sections": [
        "Z2QclLEEmZAR",
        "XpzbtuWEmghC"
      ],
      "toc_visible": true,
      "include_colab_link": true
    },
    "kernelspec": {
      "name": "python3",
      "display_name": "Python 3"
    },
    "accelerator": "GPU"
  },
  "cells": [
    {
      "cell_type": "markdown",
      "metadata": {
        "id": "view-in-github",
        "colab_type": "text"
      },
      "source": [
        "<a href=\"https://colab.research.google.com/github/jainakki16/R-D/blob/main/R%26D.ipynb\" target=\"_parent\"><img src=\"https://colab.research.google.com/assets/colab-badge.svg\" alt=\"Open In Colab\"/></a>"
      ]
    },
    {
      "cell_type": "markdown",
      "metadata": {
        "id": "3m_XtMUMBtCO"
      },
      "source": [
        "# TODO\r\n",
        "1. Tableau\r\n",
        "2. EDA\r\n",
        "3. Report\r\n",
        "4. Plot of each func\r\n",
        "5. 1-D plot\r\n",
        "\r\n",
        "\r\n",
        "#Analysis of the Chat transcript \r\n",
        "\r\n",
        "Data will be collected from the chat transcripts of different courses to extract the different information \r\n",
        "regarding interaction of the students, types of question, innovative ideas etc.\r\n"
      ]
    },
    {
      "cell_type": "code",
      "metadata": {
        "colab": {
          "base_uri": "https://localhost:8080/"
        },
        "id": "7dFV6TLBGb4h",
        "outputId": "9e60b822-8e89-4fef-c6a9-8f8f7fe07aec"
      },
      "source": [
        "from google.colab import drive\n",
        "drive.mount('/content/drive')"
      ],
      "execution_count": null,
      "outputs": [
        {
          "output_type": "stream",
          "text": [
            "Mounted at /content/drive\n"
          ],
          "name": "stdout"
        }
      ]
    },
    {
      "cell_type": "code",
      "metadata": {
        "colab": {
          "base_uri": "https://localhost:8080/"
        },
        "id": "ZJ_uhQ5Yrcjb",
        "outputId": "d2de7bf2-28d4-499a-b500-6c0275ab5294"
      },
      "source": [
        "from google.colab import drive\n",
        "drive.mount('/content/gdrive', force_remount=False)"
      ],
      "execution_count": null,
      "outputs": [
        {
          "output_type": "stream",
          "text": [
            "Mounted at /content/gdrive\n"
          ],
          "name": "stdout"
        }
      ]
    },
    {
      "cell_type": "code",
      "metadata": {
        "id": "AZtJd0-sDfZk",
        "colab": {
          "base_uri": "https://localhost:8080/"
        },
        "outputId": "fd3ab857-97bc-4e1b-fda6-a01e66123df1"
      },
      "source": [
        "!pip install python-docx --quiet"
      ],
      "execution_count": null,
      "outputs": [
        {
          "output_type": "stream",
          "text": [
            "\u001b[K     |████████████████████████████████| 5.5MB 15.6MB/s \n",
            "\u001b[?25h  Building wheel for python-docx (setup.py) ... \u001b[?25l\u001b[?25hdone\n"
          ],
          "name": "stdout"
        }
      ]
    },
    {
      "cell_type": "code",
      "metadata": {
        "id": "qJ4pt0JUDbkN",
        "colab": {
          "base_uri": "https://localhost:8080/"
        },
        "outputId": "9eeb6e75-ac19-4f8f-a231-e968c9941180"
      },
      "source": [
        "import docx\r\n",
        "import pandas as pd\r\n",
        "import operator\r\n",
        "\r\n",
        "from matplotlib import pyplot as plt\r\n",
        "import seaborn as sns\r\n",
        "\r\n",
        "import nltk\r\n",
        "\r\n",
        "sns.set_style('darkgrid')\r\n",
        "nltk.download(\"punkt\")"
      ],
      "execution_count": null,
      "outputs": [
        {
          "output_type": "stream",
          "text": [
            "[nltk_data] Downloading package punkt to /root/nltk_data...\n",
            "[nltk_data]   Package punkt is already up-to-date!\n"
          ],
          "name": "stdout"
        },
        {
          "output_type": "execute_result",
          "data": {
            "text/plain": [
              "True"
            ]
          },
          "metadata": {
            "tags": []
          },
          "execution_count": 26
        }
      ]
    },
    {
      "cell_type": "code",
      "metadata": {
        "id": "tS0WEeZYFrdG"
      },
      "source": [
        "path_1 = '/content/gdrive/MyDrive/R&D Project/6 January 2021 NLP Introduction.docx'\r\n",
        "path_2 = '/content/gdrive/MyDrive/R&D Project/11 January 2021 Words and WordNet.docx'"
      ],
      "execution_count": null,
      "outputs": []
    },
    {
      "cell_type": "code",
      "metadata": {
        "id": "k-b2PSoQQ5Oh"
      },
      "source": [
        "def read_data(path):\r\n",
        "  time = []\r\n",
        "  name = []\r\n",
        "  chat = []\r\n",
        "\r\n",
        "  document = docx.Document(path)\r\n",
        "\r\n",
        "  for para in document.paragraphs:\r\n",
        "    line = para.text.split()\r\n",
        "    if len(line) > 1:\r\n",
        "      time.append(line[0])\r\n",
        "      name.append(line[1] + ' ' + line[2][:-1])\r\n",
        "      chat.append(' '.join(line[3:]))\r\n",
        "\r\n",
        "  data = pd.DataFrame({'Time': time, 'Name': name, 'Chat': chat})\r\n",
        "\r\n",
        "  return data"
      ],
      "execution_count": null,
      "outputs": []
    },
    {
      "cell_type": "code",
      "metadata": {
        "id": "lPul85zvPbDE"
      },
      "source": [
        "data_1 = read_data(path_1)\r\n",
        "data_2 = read_data(path_2)\r\n",
        "data = [data_1, data_2]"
      ],
      "execution_count": null,
      "outputs": []
    },
    {
      "cell_type": "code",
      "metadata": {
        "id": "iJsypbWpVQ5Z"
      },
      "source": [
        "def get_professor_question(data):\r\n",
        "  return data[data['Name'] == 'Ratna Sanyal']"
      ],
      "execution_count": null,
      "outputs": []
    },
    {
      "cell_type": "markdown",
      "metadata": {
        "id": "Z2QclLEEmZAR"
      },
      "source": [
        "# Number of questions asked by faculty\r\n"
      ]
    },
    {
      "cell_type": "code",
      "metadata": {
        "id": "46BzlYHAmVoT",
        "colab": {
          "base_uri": "https://localhost:8080/"
        },
        "outputId": "ec251c8d-deae-411f-bd93-732dc601e5f4"
      },
      "source": [
        "j = 1\r\n",
        "for i in data:\r\n",
        "  print(f'Number of questions asked by faculty in session-{j} : {get_professor_question(i).shape[0]}')\r\n",
        "  j += 1"
      ],
      "execution_count": null,
      "outputs": [
        {
          "output_type": "stream",
          "text": [
            "Number of questions asked by faculty in session-1 : 0\n",
            "Number of questions asked by faculty in session-2 : 4\n"
          ],
          "name": "stdout"
        }
      ]
    },
    {
      "cell_type": "markdown",
      "metadata": {
        "id": "XpzbtuWEmghC"
      },
      "source": [
        "# Questions asked by faculty with their timestamp"
      ]
    },
    {
      "cell_type": "code",
      "metadata": {
        "id": "n-edA9W3mhYJ",
        "colab": {
          "base_uri": "https://localhost:8080/"
        },
        "outputId": "9dbb0b11-9da8-4fae-ae58-01c795deda22"
      },
      "source": [
        "j = 0\r\n",
        "for i in data:\r\n",
        "  j += 1\r\n",
        "  if get_professor_question(i)[['Time', 'Chat']].shape[0] == 0:\r\n",
        "    continue\r\n",
        "  else:\r\n",
        "    print(f\"Time stamp of questions asked by faculty in session-{j} : \\n{get_professor_question(i)[['Time', 'Chat']]}\\n\")\r\n"
      ],
      "execution_count": null,
      "outputs": [
        {
          "output_type": "stream",
          "text": [
            "Time stamp of questions asked by faculty in session-2 : \n",
            "         Time                                 Chat\n",
            "0    00:12:59        Give the example for Homonyms\n",
            "39   00:30:10         Can you example for antonyms\n",
            "78   00:38:44  Write example for Hyponymy/Hypernym\n",
            "110  00:45:48            Write example for Meronym\n",
            "\n"
          ],
          "name": "stdout"
        }
      ]
    },
    {
      "cell_type": "markdown",
      "metadata": {
        "id": "BmjjlJwsupSM"
      },
      "source": [
        "# Most frequent words in question"
      ]
    },
    {
      "cell_type": "code",
      "metadata": {
        "id": "VAx3LiBu1Wjn"
      },
      "source": [
        "def get_top_five(dic):\r\n",
        "  sorted_dict = dict(sorted(dic.items(), key=operator.itemgetter(1), reverse=True))\r\n",
        "  top_five = {k: sorted_dict[k] for k in list(sorted_dict)[:5]}\r\n",
        "  return top_five"
      ],
      "execution_count": null,
      "outputs": []
    },
    {
      "cell_type": "code",
      "metadata": {
        "id": "c2zFbAUYeqZK",
        "colab": {
          "base_uri": "https://localhost:8080/",
          "height": 372
        },
        "outputId": "186d5e86-b6fe-44c2-96ba-f1fb7aab0cb5"
      },
      "source": [
        "j = 0\r\n",
        "for i in data:\r\n",
        "  j += 1\r\n",
        "\r\n",
        "  session = ' '.join(get_professor_question(i)['Chat'].tolist())\r\n",
        "  tokenizer = nltk.RegexpTokenizer(r\"\\w+\")\r\n",
        "  session = tokenizer.tokenize(session)\r\n",
        "\r\n",
        "  if session == []:\r\n",
        "    continue\r\n",
        "\r\n",
        "  word_count = {}\r\n",
        "  for word in session:\r\n",
        "    if word in word_count:\r\n",
        "      word_count[word] += 1\r\n",
        "    else:\r\n",
        "      word_count[word] = 1\r\n",
        "  \r\n",
        "  plt.figure(figsize=(10, 5))\r\n",
        "\r\n",
        "  word_count = get_top_five(word_count)\r\n",
        "  word_count_keys = list(word_count.keys())\r\n",
        "  sns.barplot(x = word_count_keys, y = [word_count[k] for k in word_count_keys], edgecolor = 'black')\r\n",
        "\r\n",
        "  plt.xticks(rotation=30, weight = 'bold')\r\n",
        "  plt.yticks(weight = 'bold')\r\n",
        "  plt.title(f'Session - {j}', weight = 'bold')\r\n",
        "  plt.ylabel('Frequency', weight = 'bold')\r\n",
        "  plt.xlabel('Tokens', weight = 'bold')"
      ],
      "execution_count": null,
      "outputs": [
        {
          "output_type": "display_data",
          "data": {
            "image/png": "[encoded data removed]",
            "text/plain": [
              "<Figure size 720x360 with 1 Axes>"
            ]
          },
          "metadata": {
            "tags": []
          }
        }
      ]
    },
    {
      "cell_type": "markdown",
      "metadata": {
        "id": "cmpoDWISz-CQ"
      },
      "source": [
        "# Total number of responses in each lecture"
      ]
    },
    {
      "cell_type": "code",
      "metadata": {
        "id": "VtukU-d6V9vh",
        "colab": {
          "base_uri": "https://localhost:8080/"
        },
        "outputId": "a9d1dc01-8d70-43d7-afb7-7762b18d0faf"
      },
      "source": [
        "def get_ans_count(data):\r\n",
        "  return data[data['Name'] != 'Ratna Sanyal']['Name'].value_counts()\r\n",
        "\r\n",
        "j = 0\r\n",
        "total_student_response = {}\r\n",
        "for i in data:\r\n",
        "  j += 1\r\n",
        "  print(f'Total number of responses by students in session-{j} : {get_ans_count(i).sum()}')\r\n",
        "  total_student_response[f'Session-{j}'] = get_ans_count(i).sum()"
      ],
      "execution_count": null,
      "outputs": [
        {
          "output_type": "stream",
          "text": [
            "Total number of responses by students in session-1 : 26\n",
            "Total number of responses by students in session-2 : 140\n"
          ],
          "name": "stdout"
        }
      ]
    },
    {
      "cell_type": "code",
      "metadata": {
        "colab": {
          "base_uri": "https://localhost:8080/",
          "height": 350
        },
        "id": "5Nr_f9hv1Lnr",
        "outputId": "0d7582cb-b53a-49b8-ae69-bb29d7efbf66"
      },
      "source": [
        "plt.figure(figsize=(10, 5))\r\n",
        "\r\n",
        "total_student_response_keys = list(total_student_response.keys())\r\n",
        "sns.lineplot(x = total_student_response_keys, \r\n",
        "             y = [total_student_response[k] for k in total_student_response_keys], \r\n",
        "             marker = \"o\")\r\n",
        "\r\n",
        "plt.title('Total Responses by students', weight = 'bold')\r\n",
        "plt.ylabel('Count')\r\n",
        "plt.xlabel('Session')\r\n",
        "plt.show()  "
      ],
      "execution_count": null,
      "outputs": [
        {
          "output_type": "display_data",
          "data": {
            "image/png": "[encoded data removed]",
            "text/plain": [
              "<Figure size 720x360 with 1 Axes>"
            ]
          },
          "metadata": {
            "tags": []
          }
        }
      ]
    },
    {
      "cell_type": "markdown",
      "metadata": {
        "id": "_8lpiKcA5Wh3"
      },
      "source": [
        "# Number of responses by each student"
      ]
    },
    {
      "cell_type": "code",
      "metadata": {
        "colab": {
          "base_uri": "https://localhost:8080/"
        },
        "id": "3wHZp2NF5WMh",
        "outputId": "73ff6511-8f78-4853-8b74-b0ef95fda04a"
      },
      "source": [
        "j = 0\r\n",
        "for i in data:\r\n",
        "  print(get_ans_count(i))"
      ],
      "execution_count": null,
      "outputs": [
        {
          "output_type": "stream",
          "text": [
            "Abhinav Gupta        5\n",
            "Shefali .            5\n",
            "Kanchan Ninad        4\n",
            "Arjun Seth           2\n",
            "Aaditya Gupta        2\n",
            "Akshay Sharma        2\n",
            "Riona Chakrabarti    1\n",
            "Sristi Agrawal       1\n",
            "Astha Kumar          1\n",
            "Nidhi Khemka         1\n",
            "Shikhar Dixit        1\n",
            "Ali Khan             1\n",
            "Name: Name, dtype: int64\n",
            "Darsh Manish            11\n",
            "Abhinav Gupta           11\n",
            "Shresth Rana            11\n",
            "Swattik Chakrabarty      8\n",
            "Mayank Gubba             8\n",
            "Ali Khan                 7\n",
            "Akshay Sharma            7\n",
            "Tammana Karthik          6\n",
            "Mayuri Mahesh            6\n",
            "Shefali .                6\n",
            "Samarth Gangwal          6\n",
            "Mousumi Saha             5\n",
            "Shikhar Dixit            5\n",
            "Arjun Seth               4\n",
            "Aaditya Gupta            4\n",
            "Trisha Sharma            4\n",
            "Muskan Goel              3\n",
            "Thadishetty Somanath     3\n",
            "Navelli Gupta            3\n",
            "Astha Kumar              3\n",
            "Sristi Agrawal           3\n",
            "Shrey Bhardwaj           2\n",
            "K Vivek                  2\n",
            "Riona Chakrabarti        2\n",
            "Anoop Gupta              2\n",
            "Garray Aneesh            2\n",
            "Manasi S                 1\n",
            "Aman Kumar               1\n",
            "Kailash Karthik          1\n",
            "Akshat Bhandari          1\n",
            "Shreya Chauhan           1\n",
            "Vijendra Raghuwanshi     1\n",
            "Name: Name, dtype: int64\n"
          ],
          "name": "stdout"
        }
      ]
    },
    {
      "cell_type": "code",
      "metadata": {
        "id": "nMpzCpNFYcaC"
      },
      "source": [
        "def response(data):\r\n",
        "  data_copy = data.copy(deep = True)\r\n",
        "  data_copy.loc[len(data_copy.index)] = [' ', 'Ratna Sanyal', ' ']\r\n",
        "  ques_index = data_copy.index[data_copy['Name'] == 'Ratna Sanyal'].tolist()\r\n",
        "\r\n",
        "  len(ques_index) - 1\r\n",
        "\r\n",
        "  for i in range(len(ques_index) - 1):\r\n",
        "    print(get_ans_count(data_copy[ques_index[i] + 1 : ques_index[i + 1]]))\r\n",
        "    print()\r\n",
        "    print()\r\n",
        "    print()\r\n",
        "\r\n",
        "response(data_2)"
      ],
      "execution_count": null,
      "outputs": []
    },
    {
      "cell_type": "code",
      "metadata": {
        "id": "7FCVqFtuanlU",
        "colab": {
          "base_uri": "https://localhost:8080/",
          "height": 402
        },
        "outputId": "dfa98c3a-60cf-4a99-c9ba-e5311e5180e9"
      },
      "source": [
        "data_2"
      ],
      "execution_count": null,
      "outputs": [
        {
          "output_type": "execute_result",
          "data": {
            "text/html": [
              "<div>\n",
              "<style scoped>\n",
              "    .dataframe tbody tr th:only-of-type {\n",
              "        vertical-align: middle;\n",
              "    }\n",
              "\n",
              "    .dataframe tbody tr th {\n",
              "        vertical-align: top;\n",
              "    }\n",
              "\n",
              "    .dataframe thead th {\n",
              "        text-align: right;\n",
              "    }\n",
              "</style>\n",
              "<table border=\"1\" class=\"dataframe\">\n",
              "  <thead>\n",
              "    <tr style=\"text-align: right;\">\n",
              "      <th></th>\n",
              "      <th>Time</th>\n",
              "      <th>Name</th>\n",
              "      <th>Chat</th>\n",
              "    </tr>\n",
              "  </thead>\n",
              "  <tbody>\n",
              "    <tr>\n",
              "      <th>0</th>\n",
              "      <td>00:12:59</td>\n",
              "      <td>Ratna Sanyal</td>\n",
              "      <td>Give the example for Homonyms</td>\n",
              "    </tr>\n",
              "    <tr>\n",
              "      <th>1</th>\n",
              "      <td>00:13:55</td>\n",
              "      <td>Ali Khan</td>\n",
              "      <td>Accept and except</td>\n",
              "    </tr>\n",
              "    <tr>\n",
              "      <th>2</th>\n",
              "      <td>00:14:14</td>\n",
              "      <td>Riona Chakrabarti</td>\n",
              "      <td>are and our - homophones</td>\n",
              "    </tr>\n",
              "    <tr>\n",
              "      <th>3</th>\n",
              "      <td>00:14:16</td>\n",
              "      <td>Shefali .</td>\n",
              "      <td>piece and peace</td>\n",
              "    </tr>\n",
              "    <tr>\n",
              "      <th>4</th>\n",
              "      <td>00:14:39</td>\n",
              "      <td>Tammana Karthik</td>\n",
              "      <td>break and brake</td>\n",
              "    </tr>\n",
              "    <tr>\n",
              "      <th>...</th>\n",
              "      <td>...</td>\n",
              "      <td>...</td>\n",
              "      <td>...</td>\n",
              "    </tr>\n",
              "    <tr>\n",
              "      <th>139</th>\n",
              "      <td>00:48:09</td>\n",
              "      <td>Darsh Manish</td>\n",
              "      <td>Darsh is incorrect</td>\n",
              "    </tr>\n",
              "    <tr>\n",
              "      <th>140</th>\n",
              "      <td>00:48:39</td>\n",
              "      <td>Shresth Rana</td>\n",
              "      <td>Darsh confused homonym with meronym, don't wor...</td>\n",
              "    </tr>\n",
              "    <tr>\n",
              "      <th>141</th>\n",
              "      <td>00:48:53</td>\n",
              "      <td>Darsh Manish</td>\n",
              "      <td>I did thank you</td>\n",
              "    </tr>\n",
              "    <tr>\n",
              "      <th>142</th>\n",
              "      <td>00:51:39</td>\n",
              "      <td>Shresth Rana</td>\n",
              "      <td>You're welcome bro, if you need help I'm willi...</td>\n",
              "    </tr>\n",
              "    <tr>\n",
              "      <th>143</th>\n",
              "      <td>00:51:48</td>\n",
              "      <td>Darsh Manish</td>\n",
              "      <td>Thanks bro</td>\n",
              "    </tr>\n",
              "  </tbody>\n",
              "</table>\n",
              "<p>144 rows × 3 columns</p>\n",
              "</div>"
            ],
            "text/plain": [
              "         Time  ...                                               Chat\n",
              "0    00:12:59  ...                      Give the example for Homonyms\n",
              "1    00:13:55  ...                                  Accept and except\n",
              "2    00:14:14  ...                           are and our - homophones\n",
              "3    00:14:16  ...                                    piece and peace\n",
              "4    00:14:39  ...                                    break and brake\n",
              "..        ...  ...                                                ...\n",
              "139  00:48:09  ...                                 Darsh is incorrect\n",
              "140  00:48:39  ...  Darsh confused homonym with meronym, don't wor...\n",
              "141  00:48:53  ...                                    I did thank you\n",
              "142  00:51:39  ...  You're welcome bro, if you need help I'm willi...\n",
              "143  00:51:48  ...                                         Thanks bro\n",
              "\n",
              "[144 rows x 3 columns]"
            ]
          },
          "metadata": {
            "tags": []
          },
          "execution_count": 37
        }
      ]
    },
    {
      "cell_type": "code",
      "metadata": {
        "id": "pD8BHsPTAp06"
      },
      "source": [
        ""
      ],
      "execution_count": null,
      "outputs": []
    }
  ]
}